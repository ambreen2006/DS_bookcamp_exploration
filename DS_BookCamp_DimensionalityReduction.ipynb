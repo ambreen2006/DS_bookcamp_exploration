{
  "nbformat": 4,
  "nbformat_minor": 0,
  "metadata": {
    "colab": {
      "name": "DS_BookCamp_DimensionalityReduction.ipynb",
      "provenance": [],
      "collapsed_sections": [],
      "authorship_tag": "ABX9TyNISek6B055RqJpk30zOWCJ",
      "include_colab_link": true
    },
    "kernelspec": {
      "name": "python3",
      "display_name": "Python 3"
    }
  },
  "cells": [
    {
      "cell_type": "markdown",
      "metadata": {
        "id": "view-in-github",
        "colab_type": "text"
      },
      "source": [
        "<a href=\"https://colab.research.google.com/github/ambreen2006/DS_bookcamp_exploration/blob/master/DS_BookCamp_DimensionalityReduction.ipynb\" target=\"_parent\"><img src=\"https://colab.research.google.com/assets/colab-badge.svg\" alt=\"Open In Colab\"/></a>"
      ]
    },
    {
      "cell_type": "code",
      "metadata": {
        "id": "JzfAqsEHQn66",
        "colab_type": "code",
        "colab": {}
      },
      "source": [
        "import numpy as np\n",
        "import matplotlib.pyplot as plt\n",
        "\n",
        "from math import sin, cos"
      ],
      "execution_count": 1,
      "outputs": []
    },
    {
      "cell_type": "code",
      "metadata": {
        "id": "gDvWpVg1Qwk-",
        "colab_type": "code",
        "colab": {}
      },
      "source": [
        "heights = np.arange(60, 78, 0.1)"
      ],
      "execution_count": 2,
      "outputs": []
    },
    {
      "cell_type": "code",
      "metadata": {
        "id": "F-BDo7ZJWrs5",
        "colab_type": "code",
        "colab": {}
      },
      "source": [
        "np.random.seed(0)\n",
        "random_fluctuations = np.random.normal(scale=10, size=heights.size)\n",
        "weights = 4*heights - 130 + random_fluctuations"
      ],
      "execution_count": 3,
      "outputs": []
    },
    {
      "cell_type": "code",
      "metadata": {
        "id": "h9n2vbkPXLGC",
        "colab_type": "code",
        "colab": {
          "base_uri": "https://localhost:8080/",
          "height": 349
        },
        "outputId": "b8b6c45f-cc5c-4fbf-eb7c-d83890260a37"
      },
      "source": [
        "plt.hist(random_fluctuations)"
      ],
      "execution_count": 4,
      "outputs": [
        {
          "output_type": "execute_result",
          "data": {
            "text/plain": [
              "(array([ 1.,  5., 18., 29., 28., 34., 23., 20., 13.,  9.]),\n",
              " array([-25.52989816, -20.59376357, -15.65762898, -10.72149439,\n",
              "         -5.7853598 ,  -0.8492252 ,   4.08690939,   9.02304398,\n",
              "         13.95917857,  18.89531316,  23.83144775]),\n",
              " <a list of 10 Patch objects>)"
            ]
          },
          "metadata": {
            "tags": []
          },
          "execution_count": 4
        },
        {
          "output_type": "display_data",
          "data": {
            "image/png": "[encoded data removed]",
            "text/plain": [
              "<Figure size 432x288 with 1 Axes>"
            ]
          },
          "metadata": {
            "tags": [],
            "needs_background": "light"
          }
        }
      ]
    },
    {
      "cell_type": "code",
      "metadata": {
        "id": "ERzn8jzDedbF",
        "colab_type": "code",
        "colab": {
          "base_uri": "https://localhost:8080/",
          "height": 265
        },
        "outputId": "4d50e105-8533-43b9-dbe1-58f19f5cc7ef"
      },
      "source": [
        "_ = plt.hist(weights)"
      ],
      "execution_count": 5,
      "outputs": [
        {
          "output_type": "display_data",
          "data": {
            "image/png": "[encoded data removed]",
            "text/plain": [
              "<Figure size 432x288 with 1 Axes>"
            ]
          },
          "metadata": {
            "tags": [],
            "needs_background": "light"
          }
        }
      ]
    },
    {
      "cell_type": "code",
      "metadata": {
        "id": "_WoqpVDpfR8x",
        "colab_type": "code",
        "colab": {
          "base_uri": "https://localhost:8080/",
          "height": 279
        },
        "outputId": "c297189b-c116-40b0-8d10-5c5fb438ab05"
      },
      "source": [
        "measurements = np.array([heights, weights])\n",
        "plt.scatter(measurements[0], measurements[1])\n",
        "plt.xlabel('Height (in)')\n",
        "plt.ylabel('Weight (lb)')\n",
        "plt.show()"
      ],
      "execution_count": 6,
      "outputs": [
        {
          "output_type": "display_data",
          "data": {
            "image/png": "[encoded data removed]",
            "text/plain": [
              "<Figure size 432x288 with 1 Axes>"
            ]
          },
          "metadata": {
            "tags": [],
            "needs_background": "light"
          }
        }
      ]
    },
    {
      "cell_type": "code",
      "metadata": {
        "id": "96BYmtGakVuQ",
        "colab_type": "code",
        "colab": {
          "base_uri": "https://localhost:8080/",
          "height": 279
        },
        "outputId": "8689699f-b367-4f56-939f-6551c59d6307"
      },
      "source": [
        "measurements = np.array([heights, weights])\n",
        "plt.scatter(measurements[0], measurements[1])\n",
        "plt.xlabel('Height (in)')\n",
        "plt.ylabel('Weight (lb)')\n",
        "plt.axis('equal')\n",
        "plt.show()"
      ],
      "execution_count": 7,
      "outputs": [
        {
          "output_type": "display_data",
          "data": {
            "image/png": "[encoded data removed]",
            "text/plain": [
              "<Figure size 432x288 with 1 Axes>"
            ]
          },
          "metadata": {
            "tags": [],
            "needs_background": "light"
          }
        }
      ]
    },
    {
      "cell_type": "code",
      "metadata": {
        "id": "j3Vw-geMn4LN",
        "colab_type": "code",
        "colab": {
          "base_uri": "https://localhost:8080/",
          "height": 279
        },
        "outputId": "5fa98f91-73f8-4e80-d700-641f838a22e2"
      },
      "source": [
        "centered_data = np.array([heights - heights.mean(),\n",
        "                          weights - weights.mean()])\n",
        "plt.scatter(centered_data[0], centered_data[1])\n",
        "plt.axhline(0, c='black')\n",
        "plt.axvline(0, c='black')\n",
        "plt.xlabel('Centralized Height (in)')\n",
        "plt.ylabel('Centralized Weight (lbs)')\n",
        "plt.axis('equal')\n",
        "plt.show()"
      ],
      "execution_count": 8,
      "outputs": [
        {
          "output_type": "display_data",
          "data": {
            "image/png": "[encoded data removed]",
            "text/plain": [
              "<Figure size 432x288 with 1 Axes>"
            ]
          },
          "metadata": {
            "tags": [],
            "needs_background": "light"
          }
        }
      ]
    },
    {
      "cell_type": "code",
      "metadata": {
        "id": "n5p8SwpeHIzy",
        "colab_type": "code",
        "colab": {
          "base_uri": "https://localhost:8080/",
          "height": 34
        },
        "outputId": "5285e1ff-da69-4db6-f8d6-cce7a8840287"
      },
      "source": [
        "centered_data.shape"
      ],
      "execution_count": 9,
      "outputs": [
        {
          "output_type": "execute_result",
          "data": {
            "text/plain": [
              "(2, 180)"
            ]
          },
          "metadata": {
            "tags": []
          },
          "execution_count": 9
        }
      ]
    },
    {
      "cell_type": "code",
      "metadata": {
        "id": "MQO1xsmwHLvw",
        "colab_type": "code",
        "colab": {}
      },
      "source": [
        "angle = np.radians(-90)\n",
        "angle_anti = np.radians(90)\n",
        "\n",
        "rotation_matrix = np.array([[cos(angle), -sin(angle)],\n",
        "                            [sin(angle), cos(angle)]])\n",
        "\n",
        "rotation_matrix_anti = np.array([[cos(angle_anti), -sin(angle_anti)],\n",
        "                                 [sin(angle_anti), cos(angle_anti)]])"
      ],
      "execution_count": 10,
      "outputs": []
    },
    {
      "cell_type": "code",
      "metadata": {
        "id": "TXTHVwv4H0pg",
        "colab_type": "code",
        "colab": {
          "base_uri": "https://localhost:8080/",
          "height": 50
        },
        "outputId": "0db4607c-d970-423e-ebb8-a5e3b174befb"
      },
      "source": [
        "rotation_matrix"
      ],
      "execution_count": 11,
      "outputs": [
        {
          "output_type": "execute_result",
          "data": {
            "text/plain": [
              "array([[ 6.123234e-17,  1.000000e+00],\n",
              "       [-1.000000e+00,  6.123234e-17]])"
            ]
          },
          "metadata": {
            "tags": []
          },
          "execution_count": 11
        }
      ]
    },
    {
      "cell_type": "code",
      "metadata": {
        "id": "N7IuO2TAH3cr",
        "colab_type": "code",
        "colab": {}
      },
      "source": [
        "rotated_data = rotation_matrix @ centered_data\n",
        "rotated_data_anti = rotation_matrix_anti @ centered_data"
      ],
      "execution_count": 12,
      "outputs": []
    },
    {
      "cell_type": "markdown",
      "metadata": {
        "id": "wxdh8vuWV0pb",
        "colab_type": "text"
      },
      "source": [
        "Good resources to review how the rotation matrix works:\n",
        "\n",
        "https://www.khanacademy.org/math/linear-algebra/matrix-transformations\n",
        "\n",
        "https://livevideo.manning.com/module/98_1_3/3blue1brown-essence-of-linear-algebra/essence-of-linear-algebra/linear-transformations-and-matrices?\n",
        "\n",
        "https://setosa.io/ev/sine-and-cosine/#:~:text=Sine%20and%20cosine%20%E2%80%94%20a.k.a.%2C%20sin,adjacent%20side%20to%20the%20hypotenuse%20."
      ]
    },
    {
      "cell_type": "code",
      "metadata": {
        "id": "xYY42hNTIAPx",
        "colab_type": "code",
        "colab": {
          "base_uri": "https://localhost:8080/",
          "height": 265
        },
        "outputId": "7b4bcc12-2c99-44d0-b4a3-6b60a642ad79"
      },
      "source": [
        "plt.scatter(centered_data[0], centered_data[1], label='Original Data')\n",
        "plt.scatter(rotated_data[0], rotated_data[1], label='Rotated Data', c = 'y')\n",
        "plt.scatter(rotated_data_anti[0], rotated_data_anti[1], label='Rotated Data', c = 'pink')\n",
        "\n",
        "plt.axhline(0, c='b')\n",
        "plt.axvline(0, c='b')\n",
        "plt.legend()\n",
        "plt.axis('equal')\n",
        "plt.show()"
      ],
      "execution_count": 13,
      "outputs": [
        {
          "output_type": "display_data",
          "data": {
            "image/png": "[encoded data removed]",
            "text/plain": [
              "<Figure size 432x288 with 1 Axes>"
            ]
          },
          "metadata": {
            "tags": [],
            "needs_background": "light"
          }
        }
      ]
    },
    {
      "cell_type": "code",
      "metadata": {
        "id": "g7-P7PN9dXvw",
        "colab_type": "code",
        "colab": {
          "base_uri": "https://localhost:8080/",
          "height": 50
        },
        "outputId": "f82e701e-9cbb-41ec-91de-6cc4ee0ee1ed"
      },
      "source": [
        "data_labels = ['unrotated', 'rotated']\n",
        "data_list = [centered_data, rotated_data]\n",
        "for data_label, data in zip(data_labels, data_list):\n",
        "    y_values = data[1]\n",
        "    penalty = y_values @ y_values/y_values.size\n",
        "    print(f'The penalty score for the {data_label} data is {penalty:.2f}')"
      ],
      "execution_count": 14,
      "outputs": [
        {
          "output_type": "stream",
          "text": [
            "The penalty score for the unrotated data is 519.82\n",
            "The penalty score for the rotated data is 27.00\n"
          ],
          "name": "stdout"
        }
      ]
    },
    {
      "cell_type": "code",
      "metadata": {
        "id": "iT-n45T6eukW",
        "colab_type": "code",
        "colab": {
          "base_uri": "https://localhost:8080/",
          "height": 50
        },
        "outputId": "bd52c18e-bb63-4bbf-8583-5f58089bb2a9"
      },
      "source": [
        "for data_label, data in zip(data_labels, data_list):\n",
        "  y_var = data[1].var()\n",
        "  assert  y_var == data[1]@data[1]/data[1].size\n",
        "  print(f'The y-axis variance for the {data_label} data is {y_var:.2f}')"
      ],
      "execution_count": 15,
      "outputs": [
        {
          "output_type": "stream",
          "text": [
            "The y-axis variance for the unrotated data is 519.82\n",
            "The y-axis variance for the rotated data is 27.00\n"
          ],
          "name": "stdout"
        }
      ]
    },
    {
      "cell_type": "markdown",
      "metadata": {
        "id": "75Qs0PeOiS26",
        "colab_type": "text"
      },
      "source": [
        "X-axis variance"
      ]
    },
    {
      "cell_type": "code",
      "metadata": {
        "id": "L8zzQYdGiPt7",
        "colab_type": "code",
        "colab": {
          "base_uri": "https://localhost:8080/",
          "height": 50
        },
        "outputId": "079d0de4-6a44-4423-bda7-6cd8cc4f2819"
      },
      "source": [
        "for data_label, data in zip(data_labels, data_list):\n",
        "  x_var = data[0].var()\n",
        "  print(f'The x-axis variance for the {data_label} data is {x_var:.2f}')"
      ],
      "execution_count": 16,
      "outputs": [
        {
          "output_type": "stream",
          "text": [
            "The x-axis variance for the unrotated data is 27.00\n",
            "The x-axis variance for the rotated data is 519.82\n"
          ],
          "name": "stdout"
        }
      ]
    },
    {
      "cell_type": "code",
      "metadata": {
        "id": "xHqVhzxkileB",
        "colab_type": "code",
        "colab": {}
      },
      "source": [
        "total_variance = centered_data[0].var() + centered_data[1].var()\n",
        "assert total_variance == rotated_data[0].var() + rotated_data[1].var()"
      ],
      "execution_count": 17,
      "outputs": []
    },
    {
      "cell_type": "markdown",
      "metadata": {
        "id": "-k3bq4_ni1co",
        "colab_type": "text"
      },
      "source": [
        "This entails that:\n",
        "  * x_values.var() / total_variance == 1 - y_values.var()/total_variance\n",
        "  * Rotating the data towards the x-axis will lead to an increase in the x-axis variance, and equivalent decrease in y-axis variance.\n",
        "\n"
      ]
    },
    {
      "cell_type": "code",
      "metadata": {
        "id": "ZLmjQZU0js7X",
        "colab_type": "code",
        "colab": {
          "base_uri": "https://localhost:8080/",
          "height": 118
        },
        "outputId": "17ca0345-a8f0-436e-eaab-007474169ced"
      },
      "source": [
        "for data_label, data in zip(data_labels, data_list):\n",
        "  p_x_var = 100 * data[0].var()/total_variance\n",
        "  p_y_var = 100 * data[1].var()/total_variance\n",
        "  print(f'In the {data_label} data, {p_x_var:.2f}% of the total variance is distributed across the x-axis')\n",
        "  print(f'The remaining {p_y_var:.2f}% of the total variance is distributed across the y-axis\\n')"
      ],
      "execution_count": 18,
      "outputs": [
        {
          "output_type": "stream",
          "text": [
            "In the unrotated data, 4.94% of the total variance is distributed across the x-axis\n",
            "The remaining 95.06% of the total variance is distributed across the y-axis\n",
            "\n",
            "In the rotated data, 95.06% of the total variance is distributed across the x-axis\n",
            "The remaining 4.94% of the total variance is distributed across the y-axis\n",
            "\n"
          ],
          "name": "stdout"
        }
      ]
    },
    {
      "cell_type": "markdown",
      "metadata": {
        "id": "cblAsoxglCC8",
        "colab_type": "text"
      },
      "source": [
        "Maximizing horizontal dispersion"
      ]
    },
    {
      "cell_type": "code",
      "metadata": {
        "id": "ZS9Z0KGylErT",
        "colab_type": "code",
        "colab": {}
      },
      "source": [
        "def rotate(angle, data=centered_data):\n",
        "  angle = np.radians(-angle)\n",
        "  rotation_matrix = np.array([[cos(angle), -sin(angle)],\n",
        "                              [sin(angle), cos(angle)]])\n",
        "  return rotation_matrix @ data"
      ],
      "execution_count": 19,
      "outputs": []
    },
    {
      "cell_type": "code",
      "metadata": {
        "id": "jHUjQGhGn2xX",
        "colab_type": "code",
        "colab": {
          "base_uri": "https://localhost:8080/",
          "height": 34
        },
        "outputId": "ee647cdf-eba7-426c-a9e9-cb411d26c94d"
      },
      "source": [
        "rotate(angle).shape"
      ],
      "execution_count": 20,
      "outputs": [
        {
          "output_type": "execute_result",
          "data": {
            "text/plain": [
              "(2, 180)"
            ]
          },
          "metadata": {
            "tags": []
          },
          "execution_count": 20
        }
      ]
    },
    {
      "cell_type": "code",
      "metadata": {
        "id": "ekMStlDSlXpH",
        "colab_type": "code",
        "colab": {
          "base_uri": "https://localhost:8080/",
          "height": 313
        },
        "outputId": "e2e22028-ffe4-48d1-8c95-3c5e1d5c5233"
      },
      "source": [
        "angles = np.arange(1, 180, 0.1)\n",
        "x_variances = [(rotate(angle)[0].var()) for angle in angles]\n",
        "p_x_var = 100*np.array(x_variances)/total_variance\n",
        "optimal_index = np.argmax(p_x_var)\n",
        "optimal_angle = angles[optimal_index]\n",
        "plt.plot(angles, p_x_var)\n",
        "plt.axvline(optimal_angle, c='k')\n",
        "plt.xlabel('Angle (degrees)')\n",
        "plt.ylabel('% x-axis coverage')\n",
        "plt.show()\n",
        "\n",
        "max_coverage = p_x_var[optimal_index]\n",
        "max_x_var = x_variances[optimal_index]\n",
        "\n",
        "print('The horizontal variance is maximized to approximately '\n",
        "       f'{int(max_x_var)} after a {optimal_angle:.2f} deg rotation.')\n",
        "print(f'The rotation distributes ')"
      ],
      "execution_count": 21,
      "outputs": [
        {
          "output_type": "display_data",
          "data": {
            "image/png": "[encoded data removed]",
            "text/plain": [
              "<Figure size 432x288 with 1 Axes>"
            ]
          },
          "metadata": {
            "tags": [],
            "needs_background": "light"
          }
        },
        {
          "output_type": "stream",
          "text": [
            "The horizontal variance is maximized to approximately 541 after a 78.30 deg rotation.\n",
            "The rotation distributes \n"
          ],
          "name": "stdout"
        }
      ]
    },
    {
      "cell_type": "code",
      "metadata": {
        "id": "yckXIF8JjAQL",
        "colab_type": "code",
        "colab": {
          "base_uri": "https://localhost:8080/",
          "height": 265
        },
        "outputId": "90c2dcef-eea7-49bd-a252-b0bb05c6d501"
      },
      "source": [
        "best_rotated_data = rotate(optimal_angle)\n",
        "plt.scatter(best_rotated_data[0], best_rotated_data[1])\n",
        "plt.axhline(0, c='black')\n",
        "plt.axvline(0, c='black')\n",
        "plt.axis('equal')\n",
        "plt.show()"
      ],
      "execution_count": 22,
      "outputs": [
        {
          "output_type": "display_data",
          "data": {
            "image/png": "[encoded data removed]",
            "text/plain": [
              "<Figure size 432x288 with 1 Axes>"
            ]
          },
          "metadata": {
            "tags": [],
            "needs_background": "light"
          }
        }
      ]
    },
    {
      "cell_type": "code",
      "metadata": {
        "id": "n7Zrb0lGjcHs",
        "colab_type": "code",
        "colab": {
          "base_uri": "https://localhost:8080/",
          "height": 50
        },
        "outputId": "adafddf1-94ed-44e8-881d-0d0a383a1283"
      },
      "source": [
        "x_values = best_rotated_data[0]\n",
        "sorted_x_values = sorted(x_values)\n",
        "cluster_size = int(x_values.size/3)\n",
        "small_cutoff = max(sorted_x_values[:cluster_size])\n",
        "larger_cutoff = min(sorted_x_values[-cluster_size:])\n",
        "print(f\"A 1D threshold of {small_cutoff:.2f} seperates the small sized and\"\n",
        "        \" medium sized customers\")\n",
        "print(f\"A 1D threshold of {larger_cutoff:.2f} seperates the medium sized \"\n",
        "        \"and large sized customers\")"
      ],
      "execution_count": 25,
      "outputs": [
        {
          "output_type": "stream",
          "text": [
            "A 1D threshold of -14.61 seperates the small sized and medium sized customers\n",
            "A 1D threshold of 15.80 seperates the medium sized and large sized customers\n"
          ],
          "name": "stdout"
        }
      ]
    },
    {
      "cell_type": "code",
      "metadata": {
        "id": "sJSnLD4WojPx",
        "colab_type": "code",
        "colab": {}
      },
      "source": [
        "def plot_customer_segments(horizontal_2d_data):\n",
        "  small, medium, large = [], [], []\n",
        "  cluster_labels = ['Small', 'Medium', 'Large']\n",
        "  for x_value, y_value in horizontal_2d_data:\n",
        "    if x_value <= small_cutoff:\n",
        "      small.append([x_value, y_value])\n",
        "    elif small_cutoff < x_value < larger_cutoff:\n",
        "      medium.append([x_value, y_value])\n",
        "    else:\n",
        "      large.append([x_value, y_value])\n",
        "  \n",
        "  for i, cluster in enumerate([small, medium, large]):\n",
        "    cluster_x_values, cluster_y_values = np.array(cluster).T\n",
        "    plt.scatter(cluster_x_values, cluster_y_values,\n",
        "                color=['g', 'b', 'y'][i],\n",
        "                label=cluster_labels[i])\n",
        "  \n",
        "  plt.axhline(0, c='black')\n",
        "  plt.axvline(larger_cutoff, c='black', linewidth=3, \n",
        "              linestyle='--')\n",
        "  plt.axvline(small_cutoff, c='black', linewidth=3,\n",
        "              linestyle='--')\n",
        "  plt.axis('equal')\n",
        "  plt.legend()\n",
        "  plt.show()"
      ],
      "execution_count": 52,
      "outputs": []
    },
    {
      "cell_type": "code",
      "metadata": {
        "id": "s26LlpKPtIhZ",
        "colab_type": "code",
        "colab": {
          "base_uri": "https://localhost:8080/",
          "height": 34
        },
        "outputId": "d9cc44b7-6d18-4087-97ff-202d81c0fcb5"
      },
      "source": [
        "best_rotated_data.shape"
      ],
      "execution_count": 37,
      "outputs": [
        {
          "output_type": "execute_result",
          "data": {
            "text/plain": [
              "(2, 180)"
            ]
          },
          "metadata": {
            "tags": []
          },
          "execution_count": 37
        }
      ]
    },
    {
      "cell_type": "code",
      "metadata": {
        "id": "w7CM5reTtMg6",
        "colab_type": "code",
        "colab": {
          "base_uri": "https://localhost:8080/",
          "height": 34
        },
        "outputId": "5642a55e-d81d-4c71-810a-d01867ce2a95"
      },
      "source": [
        "best_rotated_data.T.shape"
      ],
      "execution_count": 38,
      "outputs": [
        {
          "output_type": "execute_result",
          "data": {
            "text/plain": [
              "(180, 2)"
            ]
          },
          "metadata": {
            "tags": []
          },
          "execution_count": 38
        }
      ]
    },
    {
      "cell_type": "code",
      "metadata": {
        "id": "05_c-5o6tPrL",
        "colab_type": "code",
        "colab": {
          "base_uri": "https://localhost:8080/",
          "height": 185
        },
        "outputId": "0bcc8336-a90a-4425-979b-10d67ed77acb"
      },
      "source": [
        "best_rotated_data.T[0:10]"
      ],
      "execution_count": 40,
      "outputs": [
        {
          "output_type": "execute_result",
          "data": {
            "text/plain": [
              "array([[-20.51052004,   4.89237696],\n",
              "       [-33.45412449,   2.10976353],\n",
              "       [-27.3765617 ,   3.26624448],\n",
              "       [-14.60528207,   5.80892754],\n",
              "       [-17.84909775,   5.0350438 ],\n",
              "       [-45.29441166,  -0.75072928],\n",
              "       [-26.00923337,   3.14091734],\n",
              "       [-36.38287233,   0.89051819],\n",
              "       [-35.49952271,   0.9713293 ],\n",
              "       [-30.05613813,   1.99647825]])"
            ]
          },
          "metadata": {
            "tags": []
          },
          "execution_count": 40
        }
      ]
    },
    {
      "cell_type": "code",
      "metadata": {
        "id": "DDrGndXurBpC",
        "colab_type": "code",
        "colab": {
          "base_uri": "https://localhost:8080/",
          "height": 265
        },
        "outputId": "69474a07-fd9b-44ad-9b07-90f31b837f0b"
      },
      "source": [
        "plot_customer_segments(best_rotated_data.T)"
      ],
      "execution_count": 53,
      "outputs": [
        {
          "output_type": "display_data",
          "data": {
            "image/png": "[encoded data removed]",
            "text/plain": [
              "<Figure size 432x288 with 1 Axes>"
            ]
          },
          "metadata": {
            "tags": [],
            "needs_background": "light"
          }
        }
      ]
    },
    {
      "cell_type": "code",
      "metadata": {
        "id": "ik259E_RuQ2U",
        "colab_type": "code",
        "colab": {}
      },
      "source": [
        "zero_y_values = np.zeros(x_values.size)\n",
        "reproduced_data = rotate(-optimal_angle, data=[x_values, zero_y_values])"
      ],
      "execution_count": 54,
      "outputs": []
    },
    {
      "cell_type": "code",
      "metadata": {
        "id": "bI2pQjUdubFx",
        "colab_type": "code",
        "colab": {
          "base_uri": "https://localhost:8080/",
          "height": 265
        },
        "outputId": "2a9bcd53-6deb-47f2-e8c8-c809ef528944"
      },
      "source": [
        "plt.plot(reproduced_data[0], reproduced_data[1], c='k', \n",
        "         label='Reproduced Data')\n",
        "plt.scatter(centered_data[0], centered_data[1], c='y', \n",
        "            label='Original Data')\n",
        "plt.axis('equal')\n",
        "plt.legend()\n",
        "plt.show()"
      ],
      "execution_count": 55,
      "outputs": [
        {
          "output_type": "display_data",
          "data": {
            "image/png": "[encoded data removed]",
            "text/plain": [
              "<Figure size 432x288 with 1 Axes>"
            ]
          },
          "metadata": {
            "tags": [],
            "needs_background": "light"
          }
        }
      ]
    },
    {
      "cell_type": "code",
      "metadata": {
        "id": "zz8zBSfMxdHE",
        "colab_type": "code",
        "colab": {
          "base_uri": "https://localhost:8080/",
          "height": 279
        },
        "outputId": "b2d88ed3-4bb3-4cc5-d1d1-8fa833b72e08"
      },
      "source": [
        "np.random.seed(1)\n",
        "new_heights = np.arange(60, 78, .11)\n",
        "random_fluctuations = np.random.normal(scale=10, \n",
        "                                       size=new_heights.size)\n",
        "new_weights = 4*new_heights - 130 + random_fluctuations\n",
        "new_centered_data = np.array([new_heights - heights.mean(),\n",
        "                              new_weights - weights.mean()])\n",
        "plt.scatter(new_centered_data[0], new_centered_data[1], c='y',\n",
        "            label='New Customer Data')\n",
        "plt.plot(reproduced_data[0], reproduced_data[1], c='k',\n",
        "         label='First Principal Direction')\n",
        "plt.xlabel('Centralized Height (in)')\n",
        "plt.ylabel('Centralized Weight (lb)')\n",
        "plt.axis('equal')\n",
        "plt.legend()\n",
        "plt.show()"
      ],
      "execution_count": 56,
      "outputs": [
        {
          "output_type": "display_data",
          "data": {
            "image/png": "[encoded data removed]",
            "text/plain": [
              "<Figure size 432x288 with 1 Axes>"
            ]
          },
          "metadata": {
            "tags": [],
            "needs_background": "light"
          }
        }
      ]
    },
    {
      "cell_type": "code",
      "metadata": {
        "id": "d5sOGvSpzCV-",
        "colab_type": "code",
        "colab": {
          "base_uri": "https://localhost:8080/",
          "height": 265
        },
        "outputId": "4f7245fb-6033-4403-a704-3317a55bd3ac"
      },
      "source": [
        "new_horizontal_data = rotate(optimal_angle, data=new_centered_data)\n",
        "plot_customer_segments(new_horizontal_data.T)"
      ],
      "execution_count": 58,
      "outputs": [
        {
          "output_type": "display_data",
          "data": {
            "image/png": "[encoded data removed]",
            "text/plain": [
              "<Figure size 432x288 with 1 Axes>"
            ]
          },
          "metadata": {
            "tags": [],
            "needs_background": "light"
          }
        }
      ]
    }
  ]
}