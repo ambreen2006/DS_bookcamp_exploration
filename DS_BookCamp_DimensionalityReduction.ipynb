{
  "nbformat": 4,
  "nbformat_minor": 0,
  "metadata": {
    "colab": {
      "name": "DS_BookCamp_DimensionalityReduction.ipynb",
      "provenance": [],
      "collapsed_sections": [],
      "authorship_tag": "ABX9TyOhaaellLB7h9sRhT0laMbm",
      "include_colab_link": true
    },
    "kernelspec": {
      "name": "python3",
      "display_name": "Python 3"
    }
  },
  "cells": [
    {
      "cell_type": "markdown",
      "metadata": {
        "id": "view-in-github",
        "colab_type": "text"
      },
      "source": [
        "<a href=\"https://colab.research.google.com/github/ambreen2006/DS_bookcamp_exploration/blob/master/DS_BookCamp_DimensionalityReduction.ipynb\" target=\"_parent\"><img src=\"https://colab.research.google.com/assets/colab-badge.svg\" alt=\"Open In Colab\"/></a>"
      ]
    },
    {
      "cell_type": "code",
      "metadata": {
        "id": "JzfAqsEHQn66",
        "colab_type": "code",
        "colab": {}
      },
      "source": [
        "import numpy as np\n",
        "import matplotlib.pyplot as plt\n",
        "\n",
        "from math import sin, cos"
      ],
      "execution_count": 156,
      "outputs": []
    },
    {
      "cell_type": "code",
      "metadata": {
        "id": "gDvWpVg1Qwk-",
        "colab_type": "code",
        "colab": {}
      },
      "source": [
        "heights = np.arange(60, 78, 0.1)"
      ],
      "execution_count": 157,
      "outputs": []
    },
    {
      "cell_type": "code",
      "metadata": {
        "id": "F-BDo7ZJWrs5",
        "colab_type": "code",
        "colab": {}
      },
      "source": [
        "np.random.seed(0)\n",
        "random_fluctuations = np.random.normal(scale=10, size=heights.size)\n",
        "weights = 4*heights - 130 + random_fluctuations"
      ],
      "execution_count": 158,
      "outputs": []
    },
    {
      "cell_type": "code",
      "metadata": {
        "id": "h9n2vbkPXLGC",
        "colab_type": "code",
        "colab": {
          "base_uri": "https://localhost:8080/",
          "height": 349
        },
        "outputId": "ce91d28e-b92d-4c00-c618-4ac0e3168d9b"
      },
      "source": [
        "plt.hist(random_fluctuations)"
      ],
      "execution_count": 159,
      "outputs": [
        {
          "output_type": "execute_result",
          "data": {
            "text/plain": [
              "(array([ 1.,  5., 18., 29., 28., 34., 23., 20., 13.,  9.]),\n",
              " array([-25.52989816, -20.59376357, -15.65762898, -10.72149439,\n",
              "         -5.7853598 ,  -0.8492252 ,   4.08690939,   9.02304398,\n",
              "         13.95917857,  18.89531316,  23.83144775]),\n",
              " <a list of 10 Patch objects>)"
            ]
          },
          "metadata": {
            "tags": []
          },
          "execution_count": 159
        },
        {
          "output_type": "display_data",
          "data": {
            "image/png": "[encoded data removed]",
            "text/plain": [
              "<Figure size 432x288 with 1 Axes>"
            ]
          },
          "metadata": {
            "tags": [],
            "needs_background": "light"
          }
        }
      ]
    },
    {
      "cell_type": "code",
      "metadata": {
        "id": "ERzn8jzDedbF",
        "colab_type": "code",
        "colab": {
          "base_uri": "https://localhost:8080/",
          "height": 265
        },
        "outputId": "d8ae6785-5fc7-4cea-f071-fcb575ed1c54"
      },
      "source": [
        "_ = plt.hist(weights)"
      ],
      "execution_count": 160,
      "outputs": [
        {
          "output_type": "display_data",
          "data": {
            "image/png": "[encoded data removed]",
            "text/plain": [
              "<Figure size 432x288 with 1 Axes>"
            ]
          },
          "metadata": {
            "tags": [],
            "needs_background": "light"
          }
        }
      ]
    },
    {
      "cell_type": "code",
      "metadata": {
        "id": "_WoqpVDpfR8x",
        "colab_type": "code",
        "colab": {
          "base_uri": "https://localhost:8080/",
          "height": 279
        },
        "outputId": "0f04b497-e62c-4bb8-a3d6-483f0e6de71d"
      },
      "source": [
        "measurements = np.array([heights, weights])\n",
        "plt.scatter(measurements[0], measurements[1])\n",
        "plt.xlabel('Height (in)')\n",
        "plt.ylabel('Weight (lb)')\n",
        "plt.show()"
      ],
      "execution_count": 161,
      "outputs": [
        {
          "output_type": "display_data",
          "data": {
            "image/png": "[encoded data removed]",
            "text/plain": [
              "<Figure size 432x288 with 1 Axes>"
            ]
          },
          "metadata": {
            "tags": [],
            "needs_background": "light"
          }
        }
      ]
    },
    {
      "cell_type": "code",
      "metadata": {
        "id": "96BYmtGakVuQ",
        "colab_type": "code",
        "colab": {
          "base_uri": "https://localhost:8080/",
          "height": 279
        },
        "outputId": "6ebd65d1-0109-4d97-e719-9e8d76c299fa"
      },
      "source": [
        "measurements = np.array([heights, weights])\n",
        "plt.scatter(measurements[0], measurements[1])\n",
        "plt.xlabel('Height (in)')\n",
        "plt.ylabel('Weight (lb)')\n",
        "plt.axis('equal')\n",
        "plt.show()"
      ],
      "execution_count": 162,
      "outputs": [
        {
          "output_type": "display_data",
          "data": {
            "image/png": "[encoded data removed]",
            "text/plain": [
              "<Figure size 432x288 with 1 Axes>"
            ]
          },
          "metadata": {
            "tags": [],
            "needs_background": "light"
          }
        }
      ]
    },
    {
      "cell_type": "code",
      "metadata": {
        "id": "j3Vw-geMn4LN",
        "colab_type": "code",
        "colab": {
          "base_uri": "https://localhost:8080/",
          "height": 279
        },
        "outputId": "c4350396-2baf-492d-8ff0-8ca9ec1bade4"
      },
      "source": [
        "centered_data = np.array([heights - heights.mean(),\n",
        "                          weights - weights.mean()])\n",
        "plt.scatter(centered_data[0], centered_data[1])\n",
        "plt.axhline(0, c='black')\n",
        "plt.axvline(0, c='black')\n",
        "plt.xlabel('Centralized Height (in)')\n",
        "plt.ylabel('Centralized Weight (lbs)')\n",
        "plt.axis('equal')\n",
        "plt.show()"
      ],
      "execution_count": 163,
      "outputs": [
        {
          "output_type": "display_data",
          "data": {
            "image/png": "[encoded data removed]",
            "text/plain": [
              "<Figure size 432x288 with 1 Axes>"
            ]
          },
          "metadata": {
            "tags": [],
            "needs_background": "light"
          }
        }
      ]
    },
    {
      "cell_type": "code",
      "metadata": {
        "id": "n5p8SwpeHIzy",
        "colab_type": "code",
        "colab": {
          "base_uri": "https://localhost:8080/",
          "height": 34
        },
        "outputId": "1f84c008-6ecb-42ba-fbc1-4e4392629995"
      },
      "source": [
        "centered_data.shape"
      ],
      "execution_count": 164,
      "outputs": [
        {
          "output_type": "execute_result",
          "data": {
            "text/plain": [
              "(2, 180)"
            ]
          },
          "metadata": {
            "tags": []
          },
          "execution_count": 164
        }
      ]
    },
    {
      "cell_type": "code",
      "metadata": {
        "id": "MQO1xsmwHLvw",
        "colab_type": "code",
        "colab": {}
      },
      "source": [
        "angle = np.radians(-90)\n",
        "angle_anti = np.radians(90)\n",
        "\n",
        "rotation_matrix = np.array([[cos(angle), -sin(angle)],\n",
        "                            [sin(angle), cos(angle)]])\n",
        "\n",
        "rotation_matrix_anti = np.array([[cos(angle_anti), -sin(angle_anti)],\n",
        "                                 [sin(angle_anti), cos(angle_anti)]])"
      ],
      "execution_count": 165,
      "outputs": []
    },
    {
      "cell_type": "code",
      "metadata": {
        "id": "TXTHVwv4H0pg",
        "colab_type": "code",
        "colab": {
          "base_uri": "https://localhost:8080/",
          "height": 50
        },
        "outputId": "57e6dbbf-b85c-4415-a247-72d133aab77d"
      },
      "source": [
        "rotation_matrix"
      ],
      "execution_count": 166,
      "outputs": [
        {
          "output_type": "execute_result",
          "data": {
            "text/plain": [
              "array([[ 6.123234e-17,  1.000000e+00],\n",
              "       [-1.000000e+00,  6.123234e-17]])"
            ]
          },
          "metadata": {
            "tags": []
          },
          "execution_count": 166
        }
      ]
    },
    {
      "cell_type": "code",
      "metadata": {
        "id": "N7IuO2TAH3cr",
        "colab_type": "code",
        "colab": {}
      },
      "source": [
        "rotated_data = rotation_matrix @ centered_data\n",
        "rotated_data_anti = rotation_matrix_anti @ centered_data"
      ],
      "execution_count": 167,
      "outputs": []
    },
    {
      "cell_type": "markdown",
      "metadata": {
        "id": "wxdh8vuWV0pb",
        "colab_type": "text"
      },
      "source": [
        "Good resources to review how the rotation matrix works:\n",
        "\n",
        "https://www.khanacademy.org/math/linear-algebra/matrix-transformations\n",
        "\n",
        "https://livevideo.manning.com/module/98_1_3/3blue1brown-essence-of-linear-algebra/essence-of-linear-algebra/linear-transformations-and-matrices?\n",
        "\n",
        "https://setosa.io/ev/sine-and-cosine/#:~:text=Sine%20and%20cosine%20%E2%80%94%20a.k.a.%2C%20sin,adjacent%20side%20to%20the%20hypotenuse%20."
      ]
    },
    {
      "cell_type": "code",
      "metadata": {
        "id": "xYY42hNTIAPx",
        "colab_type": "code",
        "colab": {
          "base_uri": "https://localhost:8080/",
          "height": 265
        },
        "outputId": "2fc740ea-cda8-4db2-89f5-90f0284c41ac"
      },
      "source": [
        "plt.scatter(centered_data[0], centered_data[1], label='Original Data')\n",
        "plt.scatter(rotated_data[0], rotated_data[1], label='Rotated Data', c = 'y')\n",
        "plt.scatter(rotated_data_anti[0], rotated_data_anti[1], label='Rotated Data', c = 'pink')\n",
        "\n",
        "plt.axhline(0, c='b')\n",
        "plt.axvline(0, c='b')\n",
        "plt.legend()\n",
        "plt.axis('equal')\n",
        "plt.show()"
      ],
      "execution_count": 168,
      "outputs": [
        {
          "output_type": "display_data",
          "data": {
            "image/png": "[encoded data removed]",
            "text/plain": [
              "<Figure size 432x288 with 1 Axes>"
            ]
          },
          "metadata": {
            "tags": [],
            "needs_background": "light"
          }
        }
      ]
    },
    {
      "cell_type": "code",
      "metadata": {
        "id": "g7-P7PN9dXvw",
        "colab_type": "code",
        "colab": {
          "base_uri": "https://localhost:8080/",
          "height": 50
        },
        "outputId": "c9ca11c6-0036-4736-f77e-92ac7fee16eb"
      },
      "source": [
        "data_labels = ['unrotated', 'rotated']\n",
        "data_list = [centered_data, rotated_data]\n",
        "for data_label, data in zip(data_labels, data_list):\n",
        "    y_values = data[1]\n",
        "    penalty = y_values @ y_values/y_values.size\n",
        "    print(f'The penalty score for the {data_label} data is {penalty:.2f}')"
      ],
      "execution_count": 169,
      "outputs": [
        {
          "output_type": "stream",
          "text": [
            "The penalty score for the unrotated data is 519.82\n",
            "The penalty score for the rotated data is 27.00\n"
          ],
          "name": "stdout"
        }
      ]
    },
    {
      "cell_type": "code",
      "metadata": {
        "id": "iT-n45T6eukW",
        "colab_type": "code",
        "colab": {
          "base_uri": "https://localhost:8080/",
          "height": 50
        },
        "outputId": "f2ea4915-ad74-4e8c-8b3b-508d5392d24a"
      },
      "source": [
        "for data_label, data in zip(data_labels, data_list):\n",
        "  y_var = data[1].var()\n",
        "  assert  y_var == data[1]@data[1]/data[1].size\n",
        "  print(f'The y-axis variance for the {data_label} data is {y_var:.2f}')"
      ],
      "execution_count": 170,
      "outputs": [
        {
          "output_type": "stream",
          "text": [
            "The y-axis variance for the unrotated data is 519.82\n",
            "The y-axis variance for the rotated data is 27.00\n"
          ],
          "name": "stdout"
        }
      ]
    },
    {
      "cell_type": "markdown",
      "metadata": {
        "id": "75Qs0PeOiS26",
        "colab_type": "text"
      },
      "source": [
        "X-axis variance"
      ]
    },
    {
      "cell_type": "code",
      "metadata": {
        "id": "L8zzQYdGiPt7",
        "colab_type": "code",
        "colab": {
          "base_uri": "https://localhost:8080/",
          "height": 50
        },
        "outputId": "b11ae0e6-9efc-4197-d013-d17a7e1d258a"
      },
      "source": [
        "for data_label, data in zip(data_labels, data_list):\n",
        "  x_var = data[0].var()\n",
        "  print(f'The x-axis variance for the {data_label} data is {x_var:.2f}')"
      ],
      "execution_count": 171,
      "outputs": [
        {
          "output_type": "stream",
          "text": [
            "The x-axis variance for the unrotated data is 27.00\n",
            "The x-axis variance for the rotated data is 519.82\n"
          ],
          "name": "stdout"
        }
      ]
    },
    {
      "cell_type": "code",
      "metadata": {
        "id": "xHqVhzxkileB",
        "colab_type": "code",
        "colab": {}
      },
      "source": [
        "total_variance = centered_data[0].var() + centered_data[1].var()\n",
        "assert total_variance == rotated_data[0].var() + rotated_data[1].var()"
      ],
      "execution_count": 172,
      "outputs": []
    },
    {
      "cell_type": "markdown",
      "metadata": {
        "id": "-k3bq4_ni1co",
        "colab_type": "text"
      },
      "source": [
        "This entails that:\n",
        "  * x_values.var() / total_variance == 1 - y_values.var()/total_variance\n",
        "  * Rotating the data towards the x-axis will lead to an increase in the x-axis variance, and equivalent decrease in y-axis variance.\n",
        "\n"
      ]
    },
    {
      "cell_type": "code",
      "metadata": {
        "id": "ZLmjQZU0js7X",
        "colab_type": "code",
        "colab": {
          "base_uri": "https://localhost:8080/",
          "height": 118
        },
        "outputId": "fdd68088-6130-4a19-c9e3-832099ab668b"
      },
      "source": [
        "for data_label, data in zip(data_labels, data_list):\n",
        "  p_x_var = 100 * data[0].var()/total_variance\n",
        "  p_y_var = 100 * data[1].var()/total_variance\n",
        "  print(f'In the {data_label} data, {p_x_var:.2f}% of the total variance is distributed across the x-axis')\n",
        "  print(f'The remaining {p_y_var:.2f}% of the total variance is distributed across the y-axis\\n')"
      ],
      "execution_count": 173,
      "outputs": [
        {
          "output_type": "stream",
          "text": [
            "In the unrotated data, 4.94% of the total variance is distributed across the x-axis\n",
            "The remaining 95.06% of the total variance is distributed across the y-axis\n",
            "\n",
            "In the rotated data, 95.06% of the total variance is distributed across the x-axis\n",
            "The remaining 4.94% of the total variance is distributed across the y-axis\n",
            "\n"
          ],
          "name": "stdout"
        }
      ]
    },
    {
      "cell_type": "markdown",
      "metadata": {
        "id": "cblAsoxglCC8",
        "colab_type": "text"
      },
      "source": [
        "Maximizing horizontal dispersion"
      ]
    },
    {
      "cell_type": "code",
      "metadata": {
        "id": "ZS9Z0KGylErT",
        "colab_type": "code",
        "colab": {}
      },
      "source": [
        "def rotate(angle, data=centered_data):\n",
        "  angle = np.radians(-angle)\n",
        "  rotation_matrix = np.array([[cos(angle), -sin(angle)],\n",
        "                              [sin(angle), cos(angle)]])\n",
        "  return rotation_matrix @ data"
      ],
      "execution_count": 174,
      "outputs": []
    },
    {
      "cell_type": "code",
      "metadata": {
        "id": "jHUjQGhGn2xX",
        "colab_type": "code",
        "colab": {
          "base_uri": "https://localhost:8080/",
          "height": 34
        },
        "outputId": "5f069ebb-a5a1-4060-89aa-130b4c5d21fa"
      },
      "source": [
        "rotate(angle).shape"
      ],
      "execution_count": 175,
      "outputs": [
        {
          "output_type": "execute_result",
          "data": {
            "text/plain": [
              "(2, 180)"
            ]
          },
          "metadata": {
            "tags": []
          },
          "execution_count": 175
        }
      ]
    },
    {
      "cell_type": "code",
      "metadata": {
        "id": "ekMStlDSlXpH",
        "colab_type": "code",
        "colab": {
          "base_uri": "https://localhost:8080/",
          "height": 313
        },
        "outputId": "1da72a1e-a9c9-4fa0-816c-c5590d6648f9"
      },
      "source": [
        "angles = np.arange(1, 180, 0.1)\n",
        "x_variances = [(rotate(angle)[0].var()) for angle in angles]\n",
        "p_x_var = 100*np.array(x_variances)/total_variance\n",
        "optimal_index = np.argmax(p_x_var)\n",
        "optimal_angle = angles[optimal_index]\n",
        "plt.plot(angles, p_x_var)\n",
        "plt.axvline(optimal_angle, c='k')\n",
        "plt.xlabel('Angle (degrees)')\n",
        "plt.ylabel('% x-axis coverage')\n",
        "plt.show()\n",
        "\n",
        "max_coverage = p_x_var[optimal_index]\n",
        "max_x_var = x_variances[optimal_index]\n",
        "\n",
        "print('The horizontal variance is maximized to approximately '\n",
        "       f'{int(max_x_var)} after a {optimal_angle:.2f} deg rotation.')\n",
        "print(f'The rotation distributes ')"
      ],
      "execution_count": 176,
      "outputs": [
        {
          "output_type": "display_data",
          "data": {
            "image/png": "[encoded data removed]",
            "text/plain": [
              "<Figure size 432x288 with 1 Axes>"
            ]
          },
          "metadata": {
            "tags": [],
            "needs_background": "light"
          }
        },
        {
          "output_type": "stream",
          "text": [
            "The horizontal variance is maximized to approximately 541 after a 78.30 deg rotation.\n",
            "The rotation distributes \n"
          ],
          "name": "stdout"
        }
      ]
    },
    {
      "cell_type": "code",
      "metadata": {
        "id": "yckXIF8JjAQL",
        "colab_type": "code",
        "colab": {
          "base_uri": "https://localhost:8080/",
          "height": 265
        },
        "outputId": "7116c96c-1ed8-4732-f9d2-c6137c359bde"
      },
      "source": [
        "best_rotated_data = rotate(optimal_angle)\n",
        "plt.scatter(best_rotated_data[0], best_rotated_data[1])\n",
        "plt.axhline(0, c='black')\n",
        "plt.axvline(0, c='black')\n",
        "plt.axis('equal')\n",
        "plt.show()"
      ],
      "execution_count": 177,
      "outputs": [
        {
          "output_type": "display_data",
          "data": {
            "image/png": "[encoded data removed]",
            "text/plain": [
              "<Figure size 432x288 with 1 Axes>"
            ]
          },
          "metadata": {
            "tags": [],
            "needs_background": "light"
          }
        }
      ]
    },
    {
      "cell_type": "code",
      "metadata": {
        "id": "n7Zrb0lGjcHs",
        "colab_type": "code",
        "colab": {
          "base_uri": "https://localhost:8080/",
          "height": 50
        },
        "outputId": "18fb8d7d-cfac-473d-ead1-10c32587c2a2"
      },
      "source": [
        "x_values = best_rotated_data[0]\n",
        "sorted_x_values = sorted(x_values)\n",
        "cluster_size = int(x_values.size/3)\n",
        "small_cutoff = max(sorted_x_values[:cluster_size])\n",
        "larger_cutoff = min(sorted_x_values[-cluster_size:])\n",
        "print(f\"A 1D threshold of {small_cutoff:.2f} seperates the small sized and\"\n",
        "        \" medium sized customers\")\n",
        "print(f\"A 1D threshold of {larger_cutoff:.2f} seperates the medium sized \"\n",
        "        \"and large sized customers\")"
      ],
      "execution_count": 178,
      "outputs": [
        {
          "output_type": "stream",
          "text": [
            "A 1D threshold of -14.61 seperates the small sized and medium sized customers\n",
            "A 1D threshold of 15.80 seperates the medium sized and large sized customers\n"
          ],
          "name": "stdout"
        }
      ]
    },
    {
      "cell_type": "code",
      "metadata": {
        "id": "sJSnLD4WojPx",
        "colab_type": "code",
        "colab": {}
      },
      "source": [
        "def plot_customer_segments(horizontal_2d_data):\n",
        "  small, medium, large = [], [], []\n",
        "  cluster_labels = ['Small', 'Medium', 'Large']\n",
        "  for x_value, y_value in horizontal_2d_data:\n",
        "    if x_value <= small_cutoff:\n",
        "      small.append([x_value, y_value])\n",
        "    elif small_cutoff < x_value < larger_cutoff:\n",
        "      medium.append([x_value, y_value])\n",
        "    else:\n",
        "      large.append([x_value, y_value])\n",
        "  \n",
        "  for i, cluster in enumerate([small, medium, large]):\n",
        "    cluster_x_values, cluster_y_values = np.array(cluster).T\n",
        "    plt.scatter(cluster_x_values, cluster_y_values,\n",
        "                color=['g', 'b', 'y'][i],\n",
        "                label=cluster_labels[i])\n",
        "  \n",
        "  plt.axhline(0, c='black')\n",
        "  plt.axvline(larger_cutoff, c='black', linewidth=3, \n",
        "              linestyle='--')\n",
        "  plt.axvline(small_cutoff, c='black', linewidth=3,\n",
        "              linestyle='--')\n",
        "  plt.axis('equal')\n",
        "  plt.legend()\n",
        "  plt.show()"
      ],
      "execution_count": 179,
      "outputs": []
    },
    {
      "cell_type": "code",
      "metadata": {
        "id": "s26LlpKPtIhZ",
        "colab_type": "code",
        "colab": {
          "base_uri": "https://localhost:8080/",
          "height": 34
        },
        "outputId": "e8b2ae2d-291e-4baf-f564-7c209d166ea0"
      },
      "source": [
        "best_rotated_data.shape"
      ],
      "execution_count": 180,
      "outputs": [
        {
          "output_type": "execute_result",
          "data": {
            "text/plain": [
              "(2, 180)"
            ]
          },
          "metadata": {
            "tags": []
          },
          "execution_count": 180
        }
      ]
    },
    {
      "cell_type": "code",
      "metadata": {
        "id": "w7CM5reTtMg6",
        "colab_type": "code",
        "colab": {
          "base_uri": "https://localhost:8080/",
          "height": 34
        },
        "outputId": "e7e0f692-6f88-4d76-e7b4-90b653ee9b53"
      },
      "source": [
        "best_rotated_data.T.shape"
      ],
      "execution_count": 181,
      "outputs": [
        {
          "output_type": "execute_result",
          "data": {
            "text/plain": [
              "(180, 2)"
            ]
          },
          "metadata": {
            "tags": []
          },
          "execution_count": 181
        }
      ]
    },
    {
      "cell_type": "code",
      "metadata": {
        "id": "05_c-5o6tPrL",
        "colab_type": "code",
        "colab": {
          "base_uri": "https://localhost:8080/",
          "height": 185
        },
        "outputId": "07baa0d7-6554-46d0-c71a-c3236018e842"
      },
      "source": [
        "best_rotated_data.T[0:10]"
      ],
      "execution_count": 182,
      "outputs": [
        {
          "output_type": "execute_result",
          "data": {
            "text/plain": [
              "array([[-20.51052004,   4.89237696],\n",
              "       [-33.45412449,   2.10976353],\n",
              "       [-27.3765617 ,   3.26624448],\n",
              "       [-14.60528207,   5.80892754],\n",
              "       [-17.84909775,   5.0350438 ],\n",
              "       [-45.29441166,  -0.75072928],\n",
              "       [-26.00923337,   3.14091734],\n",
              "       [-36.38287233,   0.89051819],\n",
              "       [-35.49952271,   0.9713293 ],\n",
              "       [-30.05613813,   1.99647825]])"
            ]
          },
          "metadata": {
            "tags": []
          },
          "execution_count": 182
        }
      ]
    },
    {
      "cell_type": "code",
      "metadata": {
        "id": "DDrGndXurBpC",
        "colab_type": "code",
        "colab": {
          "base_uri": "https://localhost:8080/",
          "height": 265
        },
        "outputId": "bc3cb688-7262-4d9b-c7e2-744904ec0c74"
      },
      "source": [
        "plot_customer_segments(best_rotated_data.T)"
      ],
      "execution_count": 183,
      "outputs": [
        {
          "output_type": "display_data",
          "data": {
            "image/png": "[encoded data removed]",
            "text/plain": [
              "<Figure size 432x288 with 1 Axes>"
            ]
          },
          "metadata": {
            "tags": [],
            "needs_background": "light"
          }
        }
      ]
    },
    {
      "cell_type": "code",
      "metadata": {
        "id": "ik259E_RuQ2U",
        "colab_type": "code",
        "colab": {}
      },
      "source": [
        "zero_y_values = np.zeros(x_values.size)\n",
        "reproduced_data = rotate(-optimal_angle, data=[x_values, zero_y_values])"
      ],
      "execution_count": 184,
      "outputs": []
    },
    {
      "cell_type": "code",
      "metadata": {
        "id": "bI2pQjUdubFx",
        "colab_type": "code",
        "colab": {
          "base_uri": "https://localhost:8080/",
          "height": 265
        },
        "outputId": "efa3aeeb-c3a9-4ee1-a680-b003a91b51a9"
      },
      "source": [
        "plt.plot(reproduced_data[0], reproduced_data[1], c='k', \n",
        "         label='Reproduced Data')\n",
        "plt.scatter(centered_data[0], centered_data[1], c='y', \n",
        "            label='Original Data')\n",
        "plt.axis('equal')\n",
        "plt.legend()\n",
        "plt.show()"
      ],
      "execution_count": 185,
      "outputs": [
        {
          "output_type": "display_data",
          "data": {
            "image/png": "[encoded data removed]",
            "text/plain": [
              "<Figure size 432x288 with 1 Axes>"
            ]
          },
          "metadata": {
            "tags": [],
            "needs_background": "light"
          }
        }
      ]
    },
    {
      "cell_type": "code",
      "metadata": {
        "id": "zz8zBSfMxdHE",
        "colab_type": "code",
        "colab": {
          "base_uri": "https://localhost:8080/",
          "height": 279
        },
        "outputId": "8654222e-f0e0-4b7e-d3aa-271dabbe9f22"
      },
      "source": [
        "np.random.seed(1)\n",
        "new_heights = np.arange(60, 78, .11)\n",
        "random_fluctuations = np.random.normal(scale=10, \n",
        "                                       size=new_heights.size)\n",
        "new_weights = 4*new_heights - 130 + random_fluctuations\n",
        "new_centered_data = np.array([new_heights - heights.mean(),\n",
        "                              new_weights - weights.mean()])\n",
        "plt.scatter(new_centered_data[0], new_centered_data[1], c='y',\n",
        "            label='New Customer Data')\n",
        "plt.plot(reproduced_data[0], reproduced_data[1], c='k',\n",
        "         label='First Principal Direction')\n",
        "plt.xlabel('Centralized Height (in)')\n",
        "plt.ylabel('Centralized Weight (lb)')\n",
        "plt.axis('equal')\n",
        "plt.legend()\n",
        "plt.show()"
      ],
      "execution_count": 186,
      "outputs": [
        {
          "output_type": "display_data",
          "data": {
            "image/png": "[encoded data removed]",
            "text/plain": [
              "<Figure size 432x288 with 1 Axes>"
            ]
          },
          "metadata": {
            "tags": [],
            "needs_background": "light"
          }
        }
      ]
    },
    {
      "cell_type": "code",
      "metadata": {
        "id": "d5sOGvSpzCV-",
        "colab_type": "code",
        "colab": {
          "base_uri": "https://localhost:8080/",
          "height": 265
        },
        "outputId": "1ad51533-02fc-44d7-81de-0f50827ff395"
      },
      "source": [
        "new_horizontal_data = rotate(optimal_angle, data=new_centered_data)\n",
        "plot_customer_segments(new_horizontal_data.T)"
      ],
      "execution_count": 187,
      "outputs": [
        {
          "output_type": "display_data",
          "data": {
            "image/png": "[encoded data removed]",
            "text/plain": [
              "<Figure size 432x288 with 1 Axes>"
            ]
          },
          "metadata": {
            "tags": [],
            "needs_background": "light"
          }
        }
      ]
    },
    {
      "cell_type": "markdown",
      "metadata": {
        "id": "RP6ueVouuvNl",
        "colab_type": "text"
      },
      "source": [
        "# Dimension Reduction using PCA"
      ]
    },
    {
      "cell_type": "code",
      "metadata": {
        "id": "5gMlGQ58u74V",
        "colab_type": "code",
        "colab": {}
      },
      "source": [
        "from sklearn.decomposition import PCA"
      ],
      "execution_count": 188,
      "outputs": []
    },
    {
      "cell_type": "code",
      "metadata": {
        "id": "npJ7Nj8QvFB4",
        "colab_type": "code",
        "colab": {}
      },
      "source": [
        "pca_obj = PCA()"
      ],
      "execution_count": 189,
      "outputs": []
    },
    {
      "cell_type": "code",
      "metadata": {
        "id": "ieyEICUFvPYQ",
        "colab_type": "code",
        "colab": {
          "base_uri": "https://localhost:8080/",
          "height": 34
        },
        "outputId": "304f7100-413d-4c5d-c7b3-ac64c2788350"
      },
      "source": [
        "measurements.shape"
      ],
      "execution_count": 190,
      "outputs": [
        {
          "output_type": "execute_result",
          "data": {
            "text/plain": [
              "(2, 180)"
            ]
          },
          "metadata": {
            "tags": []
          },
          "execution_count": 190
        }
      ]
    },
    {
      "cell_type": "code",
      "metadata": {
        "id": "1f-t4XP4vu9V",
        "colab_type": "code",
        "colab": {
          "base_uri": "https://localhost:8080/",
          "height": 265
        },
        "outputId": "e37c90dc-7fff-476a-e809-5125d38c3e8c"
      },
      "source": [
        "pca_transformed_data = pca_obj.fit_transform(measurements.T)\n",
        "plt.scatter(pca_transformed_data[:,0], pca_transformed_data[:, 1])\n",
        "plt.axhline(0, c='black')\n",
        "plt.axvline(0, c='black')\n",
        "plt.axis('equal')\n",
        "plt.show()"
      ],
      "execution_count": 191,
      "outputs": [
        {
          "output_type": "display_data",
          "data": {
            "image/png": "[encoded data removed]",
            "text/plain": [
              "<Figure size 432x288 with 1 Axes>"
            ]
          },
          "metadata": {
            "tags": [],
            "needs_background": "light"
          }
        }
      ]
    },
    {
      "cell_type": "code",
      "metadata": {
        "id": "wCUYV7sIDjSs",
        "colab_type": "code",
        "colab": {
          "base_uri": "https://localhost:8080/",
          "height": 265
        },
        "outputId": "a1d714ac-24a6-40c3-d79c-6b375dd61b68"
      },
      "source": [
        "plot_customer_segments(pca_transformed_data*np.array([1, -1]))"
      ],
      "execution_count": 192,
      "outputs": [
        {
          "output_type": "display_data",
          "data": {
            "image/png": "[encoded data removed]",
            "text/plain": [
              "<Figure size 432x288 with 1 Axes>"
            ]
          },
          "metadata": {
            "tags": [],
            "needs_background": "light"
          }
        }
      ]
    },
    {
      "cell_type": "code",
      "metadata": {
        "id": "eFjFLhNSDvjg",
        "colab_type": "code",
        "colab": {
          "base_uri": "https://localhost:8080/",
          "height": 34
        },
        "outputId": "7506fc8a-171d-4f9d-9000-538ef0668064"
      },
      "source": [
        "percent_variance_coverages = 100*pca_obj.explained_variance_ratio_\n",
        "x_axis_coverage, y_axis_coverage = percent_variance_coverages\n",
        "print(f\"The x-axis of our PCA output covers {x_axis_coverage:.2f}% of the total variance\")"
      ],
      "execution_count": 193,
      "outputs": [
        {
          "output_type": "stream",
          "text": [
            "The x-axis of our PCA output covers 99.08% of the total variance\n"
          ],
          "name": "stdout"
        }
      ]
    },
    {
      "cell_type": "code",
      "metadata": {
        "id": "UhFad_glEOjN",
        "colab_type": "code",
        "colab": {
          "base_uri": "https://localhost:8080/",
          "height": 50
        },
        "outputId": "62081476-cc5c-4bed-84b4-c2f3edd9a970"
      },
      "source": [
        "from numpy.linalg import norm\n",
        "\n",
        "first_pc = pca_obj.components_[0]\n",
        "magnitude = norm(first_pc)\n",
        "print(f\"Vector {first_pc} points in a direction that covers \"\n",
        "      f\"{x_axis_coverage:.2f}% of the total variance.\")\n",
        "print(f\"The vector has a magnitude of {magnitude}\")"
      ],
      "execution_count": 194,
      "outputs": [
        {
          "output_type": "stream",
          "text": [
            "Vector [-0.20223994 -0.979336  ] points in a direction that covers 99.08% of the total variance.\n",
            "The vector has a magnitude of 1.0\n"
          ],
          "name": "stdout"
        }
      ]
    },
    {
      "cell_type": "code",
      "metadata": {
        "id": "lzhmyVTtF1r7",
        "colab_type": "code",
        "colab": {
          "base_uri": "https://localhost:8080/",
          "height": 279
        },
        "outputId": "f177fef5-ad79-498f-a409-e69889ebdba2"
      },
      "source": [
        "def plot_stretched_vector(v, **kwargs):\n",
        "  plt.plot([-50*v[0], 50*v[0]], \n",
        "           #[v[1], v[1]],\n",
        "           [-50*v[1], 50*v[1]], \n",
        "           **kwargs)\n",
        "\n",
        "plot_stretched_vector(first_pc, label='First Principal Direction')\n",
        "#plt.plot(reproduced_data[0], reproduced_data[1], c='k', \n",
        "#         label='First Principal Direction')\n",
        "plt.scatter(centered_data[0], centered_data[1], c='y')\n",
        "plt.xlabel('Centralized Height (in)')\n",
        "plt.ylabel('Centralized Weight (lb)')\n",
        "plt.axis('equal')\n",
        "plt.legend()\n",
        "plt.show()"
      ],
      "execution_count": 195,
      "outputs": [
        {
          "output_type": "display_data",
          "data": {
            "image/png": "[encoded data removed]",
            "text/plain": [
              "<Figure size 432x288 with 1 Axes>"
            ]
          },
          "metadata": {
            "tags": [],
            "needs_background": "light"
          }
        }
      ]
    },
    {
      "cell_type": "code",
      "metadata": {
        "id": "BGgjEN-fIpUp",
        "colab_type": "code",
        "colab": {
          "base_uri": "https://localhost:8080/",
          "height": 279
        },
        "outputId": "76e80150-2fe8-4826-ab99-c2f6ac8f954e"
      },
      "source": [
        "principal_components = pca_obj.components_\n",
        "for i, pc in enumerate(principal_components):\n",
        "  plot_stretched_vector(pc, c='k',\n",
        "                        label='Principal Directions' if i == 0 else None)\n",
        "\n",
        "for i, axis_vector in enumerate([np.array([0, 1]), np.array([1, 0])]):\n",
        "  plot_stretched_vector(axis_vector, c='g', linestyle='-.',\n",
        "                        label='Axes' if i == 0 else None)\n",
        "\n",
        "plt.scatter(centered_data[0], centered_data[1], c='y')\n",
        "plt.xlabel('Centralized Height (in)')\n",
        "plt.ylabel('Centralized Weight (lbs)')\n",
        "plt.axis('equal')\n",
        "plt.legend()\n",
        "plt.show()"
      ],
      "execution_count": 196,
      "outputs": [
        {
          "output_type": "display_data",
          "data": {
            "image/png": "[encoded data removed]",
            "text/plain": [
              "<Figure size 432x288 with 1 Axes>"
            ]
          },
          "metadata": {
            "tags": [],
            "needs_background": "light"
          }
        }
      ]
    },
    {
      "cell_type": "code",
      "metadata": {
        "id": "kg1QO_1mLogZ",
        "colab_type": "code",
        "colab": {}
      },
      "source": [
        "projections = principal_components @ centered_data"
      ],
      "execution_count": 197,
      "outputs": []
    },
    {
      "cell_type": "code",
      "metadata": {
        "id": "nW6qMUL-LtiT",
        "colab_type": "code",
        "colab": {}
      },
      "source": [
        "assert np.allclose(pca_transformed_data.T, projections)"
      ],
      "execution_count": 198,
      "outputs": []
    },
    {
      "cell_type": "markdown",
      "metadata": {
        "id": "cEZibPXj-F4A",
        "colab_type": "text"
      },
      "source": [
        "# Clustering 4D Data In 2-Dimensions"
      ]
    },
    {
      "cell_type": "code",
      "metadata": {
        "id": "bYuyfHTL-OSA",
        "colab_type": "code",
        "colab": {
          "base_uri": "https://localhost:8080/",
          "height": 67
        },
        "outputId": "9073577c-dee0-4e21-91c1-7f98629fd9c2"
      },
      "source": [
        "from sklearn.datasets import load_iris\n",
        "flower_data = load_iris()\n",
        "flower_measurements = flower_data['data']\n",
        "num_flowers, num_measurements = flower_measurements.shape\n",
        "print(f\"{num_flowers} flowers have been measured\")\n",
        "print(f\"{num_measurements} measurements were recorded for every flower\")\n",
        "print(f\"The first flower has the following measurements (in cm): {flower_measurements[0]}\")"
      ],
      "execution_count": 199,
      "outputs": [
        {
          "output_type": "stream",
          "text": [
            "150 flowers have been measured\n",
            "4 measurements were recorded for every flower\n",
            "The first flower has the following measurements (in cm): [5.1 3.5 1.4 0.2]\n"
          ],
          "name": "stdout"
        }
      ]
    },
    {
      "cell_type": "code",
      "metadata": {
        "id": "e30xhwgV_M9H",
        "colab_type": "code",
        "colab": {}
      },
      "source": [
        "pca_object_2d = PCA(n_components=2)\n",
        "transformed_data_2D = pca_object_2d.fit_transform(flower_measurements)"
      ],
      "execution_count": 200,
      "outputs": []
    },
    {
      "cell_type": "code",
      "metadata": {
        "id": "vvK8EovX_0p1",
        "colab_type": "code",
        "colab": {
          "base_uri": "https://localhost:8080/",
          "height": 50
        },
        "outputId": "75a5b151-a166-4688-f260-d8563336d414"
      },
      "source": [
        "row_count, column_count = transformed_data_2D.shape\n",
        "print(f\"The matrix contains {row_count} rows, corresponding to \"\n",
        "      f\"{row_count} recorded flowers\")\n",
        "print(f\"It also contains {column_count} columns, corresponding to \"\n",
        "      f\"{column_count} dimensions\")"
      ],
      "execution_count": 201,
      "outputs": [
        {
          "output_type": "stream",
          "text": [
            "The matrix contains 150 rows, corresponding to 150 recorded flowers\n",
            "It also contains 2 columns, corresponding to 2 dimensions\n"
          ],
          "name": "stdout"
        }
      ]
    },
    {
      "cell_type": "code",
      "metadata": {
        "id": "U4Bt8UmIAYES",
        "colab_type": "code",
        "colab": {
          "base_uri": "https://localhost:8080/",
          "height": 67
        },
        "outputId": "1541345c-cce6-4b32-a024-73ddbcd1b300"
      },
      "source": [
        "def print_2D_variance_coverage(pca_object):\n",
        "  \n",
        "  percent_var_coverages = 100*pca_object.explained_variance_ratio_\n",
        "  x_axis_coverage, y_axis_coverage = percent_var_coverages\n",
        "  total_coverage = x_axis_coverage + y_axis_coverage\n",
        "  print(f\"The x-axis covers {x_axis_coverage:.2f}% of the total variance\")\n",
        "  print(f\"The y-axis covers {y_axis_coverage:.2f}% of the total variance\")\n",
        "  print(f\"Together, the 2 axes covers {total_coverage:.2f}% of the total variance\")\n",
        "\n",
        "print_2D_variance_coverage(pca_object_2d)"
      ],
      "execution_count": 202,
      "outputs": [
        {
          "output_type": "stream",
          "text": [
            "The x-axis covers 92.46% of the total variance\n",
            "The y-axis covers 5.31% of the total variance\n",
            "Together, the 2 axes covers 97.77% of the total variance\n"
          ],
          "name": "stdout"
        }
      ]
    },
    {
      "cell_type": "code",
      "metadata": {
        "id": "rAF6vNqJBRwR",
        "colab_type": "code",
        "colab": {
          "base_uri": "https://localhost:8080/",
          "height": 269
        },
        "outputId": "1af47b61-53ef-4e53-d21c-4473a613cf05"
      },
      "source": [
        "plt.scatter(transformed_data_2D[:,0], transformed_data_2D[:, 1])\n",
        "plt.show()"
      ],
      "execution_count": 203,
      "outputs": [
        {
          "output_type": "display_data",
          "data": {
            "image/png": "[encoded data removed]",
            "text/plain": [
              "<Figure size 432x288 with 1 Axes>"
            ]
          },
          "metadata": {
            "tags": [],
            "needs_background": "light"
          }
        }
      ]
    },
    {
      "cell_type": "code",
      "metadata": {
        "id": "HCOsxKsQBoNC",
        "colab_type": "code",
        "colab": {
          "base_uri": "https://localhost:8080/",
          "height": 269
        },
        "outputId": "7650717c-5f80-4392-9e26-a05d3f0d2b70"
      },
      "source": [
        "def visualize_flower_data(dim_reduced_data):\n",
        "  species_names = flower_data['target_names']\n",
        "\n",
        "  for i, species in enumerate(species_names):\n",
        "    species_data = np.array([dim_reduced_data[j] \n",
        "                             for j in range(dim_reduced_data.shape[0])\n",
        "                             if flower_data['target'][j] == i]).T\n",
        "    plt.scatter(species_data[0], species_data[1], label=species.title(),\n",
        "                color=['g', 'k', 'y'][i])\n",
        "  plt.legend()\n",
        "  plt.show()\n",
        "\n",
        "visualize_flower_data(transformed_data_2D)"
      ],
      "execution_count": 204,
      "outputs": [
        {
          "output_type": "display_data",
          "data": {
            "image/png": "[encoded data removed]",
            "text/plain": [
              "<Figure size 432x288 with 1 Axes>"
            ]
          },
          "metadata": {
            "tags": [],
            "needs_background": "light"
          }
        }
      ]
    },
    {
      "cell_type": "code",
      "metadata": {
        "id": "xgkmmoUhofqL",
        "colab_type": "code",
        "colab": {
          "base_uri": "https://localhost:8080/",
          "height": 50
        },
        "outputId": "1f94b507-8b82-4fda-a109-1757c0ba3ac8"
      },
      "source": [
        "def detect_setosa(flower_sample):\n",
        "  centered_sample = flower_sample - pca_object_2d.mean_\n",
        "  projection = pca_object_2d.components_[0] @ centered_sample\n",
        "  print(projection)\n",
        "  is_setosa = projection < -2\n",
        "  if is_setosa:\n",
        "    print(\"The sample could be a setosa\")\n",
        "  else:\n",
        "    print(\"The sampel is not a setosa\")\n",
        "\n",
        "new_flower_sample = np.array([4.8, 3.7, 1.2, 0.24])\n",
        "detect_setosa(new_flower_sample)"
      ],
      "execution_count": 205,
      "outputs": [
        {
          "output_type": "stream",
          "text": [
            "-2.9664486596219657\n",
            "The sample could be a setosa\n"
          ],
          "name": "stdout"
        }
      ]
    },
    {
      "cell_type": "markdown",
      "metadata": {
        "id": "wnt-bIhAwZR9",
        "colab_type": "text"
      },
      "source": [
        "# Limitations of PCA"
      ]
    },
    {
      "cell_type": "code",
      "metadata": {
        "id": "X0y7ty5W_k1N",
        "colab_type": "code",
        "colab": {
          "base_uri": "https://localhost:8080/",
          "height": 69
        },
        "outputId": "3098c9b6-c75c-48b9-b55f-fd8d4a66dbba"
      },
      "source": [
        "'''\n",
        "first_axis_var = flower_measurements[:, 0].var()\n",
        "print(f\"The variance of the first axis is: {first_axis_var:.2f}\")\n",
        "flower_measurements[:, 0] *= 10\n",
        "first_axis_var = flower_measurements[:,0].var()\n",
        "print(f\"We've converted the measurements from cm to mm.\\n\"\n",
        "      f\"The variance now equals {first_axis_var:.2f}\")\n",
        "'''"
      ],
      "execution_count": 206,
      "outputs": [
        {
          "output_type": "execute_result",
          "data": {
            "application/vnd.google.colaboratory.intrinsic+json": {
              "type": "string"
            },
            "text/plain": [
              "'\\nfirst_axis_var = flower_measurements[:, 0].var()\\nprint(f\"The variance of the first axis is: {first_axis_var:.2f}\")\\nflower_measurements[:, 0] *= 10\\nfirst_axis_var = flower_measurements[:,0].var()\\nprint(f\"We\\'ve converted the measurements from cm to mm.\\n\"\\n      f\"The variance now equals {first_axis_var:.2f}\")\\n'"
            ]
          },
          "metadata": {
            "tags": []
          },
          "execution_count": 206
        }
      ]
    },
    {
      "cell_type": "markdown",
      "metadata": {
        "id": "bW4A8cNcPbzD",
        "colab_type": "text"
      },
      "source": [
        "# Computing Principal Components Without Rotation"
      ]
    },
    {
      "cell_type": "markdown",
      "metadata": {
        "id": "1fekOc2JPmDO",
        "colab_type": "text"
      },
      "source": [
        "## Computing a covariance matrix"
      ]
    },
    {
      "cell_type": "code",
      "metadata": {
        "id": "w3VBNelXPj63",
        "colab_type": "code",
        "colab": {
          "base_uri": "https://localhost:8080/",
          "height": 67
        },
        "outputId": "676eaee3-71cd-4434-92f9-755c9251d365"
      },
      "source": [
        "cov_matrix = centered_data @ centered_data.T / centered_data.shape[1]\n",
        "print(f\"Covariance matrix:\\n{cov_matrix}\")\n",
        "for i in range(centered_data.shape[0]):\n",
        "  variance = cov_matrix[i][i]\n",
        "  assert round(variance, 10) == round(centered_data[i].var(), 10)"
      ],
      "execution_count": 207,
      "outputs": [
        {
          "output_type": "stream",
          "text": [
            "Covariance matrix:\n",
            "[[ 26.99916667 106.30456732]\n",
            " [106.30456732 519.8206294 ]]\n"
          ],
          "name": "stdout"
        }
      ]
    },
    {
      "cell_type": "code",
      "metadata": {
        "id": "kYCSKvdoSW2f",
        "colab_type": "code",
        "colab": {
          "base_uri": "https://localhost:8080/",
          "height": 265
        },
        "outputId": "3eddd324-87e9-4eb5-bb03-578fa8328ab5"
      },
      "source": [
        "def plot_vector(vector, **kwargs):\n",
        "  plt.plot([0, vector[0]], [0, vector[1]], **kwargs)\n",
        "\n",
        "plot_vector(first_pc, c='y', label='First Principal Component')\n",
        "product_vector = cov_matrix @ first_pc\n",
        "product_vector /= norm(product_vector)\n",
        "plot_vector(product_vector, c='k', linestyle='--',\n",
        "            label='Normalized Product Vector')\n",
        "plt.legend()\n",
        "plt.axis('equal')\n",
        "plt.show()"
      ],
      "execution_count": 208,
      "outputs": [
        {
          "output_type": "display_data",
          "data": {
            "image/png": "[encoded data removed]",
            "text/plain": [
              "<Figure size 432x288 with 1 Axes>"
            ]
          },
          "metadata": {
            "tags": [],
            "needs_background": "light"
          }
        }
      ]
    },
    {
      "cell_type": "code",
      "metadata": {
        "id": "lyeuStLWTtNI",
        "colab_type": "code",
        "colab": {
          "base_uri": "https://localhost:8080/",
          "height": 34
        },
        "outputId": "7afc10b1-de67-4685-8757-b2cf851f1c7c"
      },
      "source": [
        "product_vector2 = cov_matrix @ product_vector\n",
        "product_vector2 /= norm(product_vector2)\n",
        "cosine_similarity = product_vector @ product_vector2\n",
        "angle = np.degrees(np.arccos(cosine_similarity))\n",
        "print(f\"The angle between vectors equals {angle:.2f} degrees\")"
      ],
      "execution_count": 209,
      "outputs": [
        {
          "output_type": "stream",
          "text": [
            "The angle between vectors equals 0.00 degrees\n"
          ],
          "name": "stdout"
        }
      ]
    },
    {
      "cell_type": "code",
      "metadata": {
        "id": "wmBGEJGdUZXl",
        "colab_type": "code",
        "colab": {
          "base_uri": "https://localhost:8080/",
          "height": 34
        },
        "outputId": "448edee8-67f5-4afa-d10b-f181ba9b1ce1"
      },
      "source": [
        "print(f\"{product_vector.shape}\")"
      ],
      "execution_count": 210,
      "outputs": [
        {
          "output_type": "stream",
          "text": [
            "(2,)\n"
          ],
          "name": "stdout"
        }
      ]
    },
    {
      "cell_type": "code",
      "metadata": {
        "id": "vEljWw-QUd5j",
        "colab_type": "code",
        "colab": {
          "base_uri": "https://localhost:8080/",
          "height": 34
        },
        "outputId": "0286ed80-9ef6-4a2a-ef84-ddb4f2179968"
      },
      "source": [
        "product_vector"
      ],
      "execution_count": 211,
      "outputs": [
        {
          "output_type": "execute_result",
          "data": {
            "text/plain": [
              "array([-0.20223994, -0.979336  ])"
            ]
          },
          "metadata": {
            "tags": []
          },
          "execution_count": 211
        }
      ]
    },
    {
      "cell_type": "code",
      "metadata": {
        "id": "DoaLDx3cUfz9",
        "colab_type": "code",
        "colab": {
          "base_uri": "https://localhost:8080/",
          "height": 34
        },
        "outputId": "fead6e5a-04be-433e-e986-e04fd4b5336c"
      },
      "source": [
        "new_magnitude = norm(cov_matrix @ first_pc)\n",
        "print(f\"Multiplication has stretched the first principal component \"\n",
        "      f\"by approximately {new_magnitude:.2f} units.\")"
      ],
      "execution_count": 212,
      "outputs": [
        {
          "output_type": "stream",
          "text": [
            "Multiplication has stretched the first principal component by approximately 541.77 units.\n"
          ],
          "name": "stdout"
        }
      ]
    },
    {
      "cell_type": "code",
      "metadata": {
        "id": "YR3gGkCyVGij",
        "colab_type": "code",
        "colab": {
          "base_uri": "https://localhost:8080/",
          "height": 34
        },
        "outputId": "84fc6974-1e05-4848-f46f-74a9d859f352"
      },
      "source": [
        "first_pc"
      ],
      "execution_count": 213,
      "outputs": [
        {
          "output_type": "execute_result",
          "data": {
            "text/plain": [
              "array([-0.20223994, -0.979336  ])"
            ]
          },
          "metadata": {
            "tags": []
          },
          "execution_count": 213
        }
      ]
    },
    {
      "cell_type": "code",
      "metadata": {
        "id": "awp4PLtZVM-f",
        "colab_type": "code",
        "colab": {
          "base_uri": "https://localhost:8080/",
          "height": 34
        },
        "outputId": "c5abd2e5-a9a7-4b8c-9624-4bca9634bc5c"
      },
      "source": [
        "cov_matrix @ first_pc"
      ],
      "execution_count": 214,
      "outputs": [
        {
          "output_type": "execute_result",
          "data": {
            "text/plain": [
              "array([-109.56819993, -530.57808676])"
            ]
          },
          "metadata": {
            "tags": []
          },
          "execution_count": 214
        }
      ]
    },
    {
      "cell_type": "code",
      "metadata": {
        "id": "Yi06-v6vVzcb",
        "colab_type": "code",
        "colab": {
          "base_uri": "https://localhost:8080/",
          "height": 34
        },
        "outputId": "4b511af3-33af-4b50-ea99-ffc4e63c42e8"
      },
      "source": [
        "variance = (centered_data.T @ first_pc).var()\n",
        "direction1_var = projections[0].var()\n",
        "print(f\"The variance along the first principal direction is \"\n",
        "      f\"approximately {variance:.2f}\")"
      ],
      "execution_count": 215,
      "outputs": [
        {
          "output_type": "stream",
          "text": [
            "The variance along the first principal direction is approximately 541.77\n"
          ],
          "name": "stdout"
        }
      ]
    },
    {
      "cell_type": "markdown",
      "metadata": {
        "id": "hv-hS5uyYAFs",
        "colab_type": "text"
      },
      "source": [
        "## Extracting Eigenvectors Using Power Iteration"
      ]
    },
    {
      "cell_type": "code",
      "metadata": {
        "id": "U7dG--4ZYJQs",
        "colab_type": "code",
        "colab": {}
      },
      "source": [
        "np.random.seed(0)\n",
        "random_vector = np.random.random(size=2)\n",
        "random_vector /= norm(random_vector)"
      ],
      "execution_count": 216,
      "outputs": []
    },
    {
      "cell_type": "code",
      "metadata": {
        "id": "ycqQfLfEYZZk",
        "colab_type": "code",
        "colab": {
          "base_uri": "https://localhost:8080/",
          "height": 34
        },
        "outputId": "6b49d202-83fa-4db5-f08a-4f2752031342"
      },
      "source": [
        "random_vector"
      ],
      "execution_count": 217,
      "outputs": [
        {
          "output_type": "execute_result",
          "data": {
            "text/plain": [
              "array([0.60878196, 0.79333759])"
            ]
          },
          "metadata": {
            "tags": []
          },
          "execution_count": 217
        }
      ]
    },
    {
      "cell_type": "code",
      "metadata": {
        "id": "TgxQ9Zu-YlK1",
        "colab_type": "code",
        "colab": {
          "base_uri": "https://localhost:8080/",
          "height": 265
        },
        "outputId": "b02fa378-c18e-4372-d19c-860e29f854dd"
      },
      "source": [
        "product_vector = cov_matrix @ random_vector\n",
        "product_vector /= norm(product_vector)\n",
        "plt.plot([0, random_vector[0]], [0, random_vector[1]], label='Random Vector')\n",
        "plt.plot([0, product_vector[0]], [0, product_vector[1]], \n",
        "         label='Normalized Product Vector', linestyle='--', c='k')\n",
        "plt.legend()\n",
        "plt.axis('equal')\n",
        "plt.show()"
      ],
      "execution_count": 218,
      "outputs": [
        {
          "output_type": "display_data",
          "data": {
            "image/png": "[encoded data removed]",
            "text/plain": [
              "<Figure size 432x288 with 1 Axes>"
            ]
          },
          "metadata": {
            "tags": [],
            "needs_background": "light"
          }
        }
      ]
    },
    {
      "cell_type": "code",
      "metadata": {
        "id": "UtcL2EkiayGt",
        "colab_type": "code",
        "colab": {
          "base_uri": "https://localhost:8080/",
          "height": 265
        },
        "outputId": "1a0d1bb6-ffbd-4edb-e2c9-fea8d816a24d"
      },
      "source": [
        "product_vector2 = cov_matrix @ product_vector\n",
        "product_vector2 /= norm(product_vector2)\n",
        "plt.plot([0, product_vector[0]], [0, product_vector[1]], linestyle='--',\n",
        "         c='k', label='Normalized Product Vector')\n",
        "plt.plot([0, product_vector2[0]], [0, product_vector2[1]], linestyle=':',\n",
        "         c='r', label='Normalized Product Vector2')\n",
        "plt.legend()\n",
        "plt.axis('equal')\n",
        "plt.show()"
      ],
      "execution_count": 219,
      "outputs": [
        {
          "output_type": "display_data",
          "data": {
            "image/png": "[encoded data removed]",
            "text/plain": [
              "<Figure size 432x288 with 1 Axes>"
            ]
          },
          "metadata": {
            "tags": [],
            "needs_background": "light"
          }
        }
      ]
    },
    {
      "cell_type": "code",
      "metadata": {
        "id": "TXpxD-m2bkif",
        "colab_type": "code",
        "colab": {
          "base_uri": "https://localhost:8080/",
          "height": 50
        },
        "outputId": "445e1dd9-9526-4cdc-869a-351671e4bdbd"
      },
      "source": [
        "np.random.seed(0)\n",
        "def power_iteration(matrix):\n",
        "  random_vector = np.random.random(size=matrix.shape[0])\n",
        "  random_vector = random_vector / norm(random_vector)\n",
        "  old_rotated_vector = random_vector\n",
        "  for _ in range(10):\n",
        "    rotated_vector = matrix @ old_rotated_vector\n",
        "    rotated_vector /= norm(rotated_vector)\n",
        "    old_rotated_vector = rotated_vector\n",
        "  \n",
        "  eigenvector = rotated_vector\n",
        "  eigenvalue = norm(matrix @ eigenvector)\n",
        "  return eigenvector, eigenvalue\n",
        "\n",
        "eigenvector, eigenvalue = power_iteration(cov_matrix)\n",
        "print(f\"The extracted eigenvector is {eigenvector}\")\n",
        "print(f\"It's eigenvalue is approx {eigenvalue:.2f}\")"
      ],
      "execution_count": 220,
      "outputs": [
        {
          "output_type": "stream",
          "text": [
            "The extracted eigenvector is [0.20223994 0.979336  ]\n",
            "It's eigenvalue is approx 541.77\n"
          ],
          "name": "stdout"
        }
      ]
    },
    {
      "cell_type": "code",
      "metadata": {
        "id": "oKXSdGRzd-D4",
        "colab_type": "code",
        "colab": {}
      },
      "source": [
        "outer_product = np.outer(eigenvector, eigenvector)\n",
        "for i in range(eigenvector.size):\n",
        "  for j in range(eigenvector.size):\n",
        "    assert outer_product[i][j] == eigenvector[i] * eigenvector[j]"
      ],
      "execution_count": 221,
      "outputs": []
    },
    {
      "cell_type": "code",
      "metadata": {
        "id": "kcMEiNKufxJT",
        "colab_type": "code",
        "colab": {}
      },
      "source": [
        "deflated_matrix = cov_matrix - eigenvalue * outer_product"
      ],
      "execution_count": 222,
      "outputs": []
    },
    {
      "cell_type": "code",
      "metadata": {
        "id": "Iy09laKof4J2",
        "colab_type": "code",
        "colab": {
          "base_uri": "https://localhost:8080/",
          "height": 50
        },
        "outputId": "0e2c81e0-59a0-462a-ace2-46cd03442f97"
      },
      "source": [
        "deflated_matrix"
      ],
      "execution_count": 223,
      "outputs": [
        {
          "output_type": "execute_result",
          "data": {
            "text/plain": [
              "array([[ 4.84009999, -0.99951554],\n",
              "       [-0.99951554,  0.20640716]])"
            ]
          },
          "metadata": {
            "tags": []
          },
          "execution_count": 223
        }
      ]
    },
    {
      "cell_type": "code",
      "metadata": {
        "id": "5zvstprUf5Fs",
        "colab_type": "code",
        "colab": {
          "base_uri": "https://localhost:8080/",
          "height": 337
        },
        "outputId": "5b7f8214-5a71-4936-d3db-6bc3e46f67be"
      },
      "source": [
        "fig, axs = plt.subplots(1,2, figsize=(10, 5))\n",
        "np.random.seed(0)\n",
        "next_eigenvector, _ = power_iteration(deflated_matrix)\n",
        "components = np.array([eigenvector, next_eigenvector])\n",
        "projections = components @ centered_data \n",
        "axs[0].scatter(projections[0], projections[1])\n",
        "axs[0].axhline(0, c='black')\n",
        "axs[0].axvline(0, c='black')\n",
        "axs[0].axis('equal')\n",
        "axs[1].scatter(centered_data[0], centered_data[1])\n",
        "axs[1].axhline(0, c='black')\n",
        "axs[1].axvline(0, c='black')\n",
        "axs[1].axis('equal')"
      ],
      "execution_count": 224,
      "outputs": [
        {
          "output_type": "execute_result",
          "data": {
            "text/plain": [
              "(-9.84500000000013, 9.845000000000159, -59.32393974187961, 52.02380082428293)"
            ]
          },
          "metadata": {
            "tags": []
          },
          "execution_count": 224
        },
        {
          "output_type": "display_data",
          "data": {
            "image/png": "[encoded data removed]",
            "text/plain": [
              "<Figure size 720x360 with 2 Axes>"
            ]
          },
          "metadata": {
            "tags": [],
            "needs_background": "light"
          }
        }
      ]
    },
    {
      "cell_type": "markdown",
      "metadata": {
        "id": "LKWVLOPt9iop",
        "colab_type": "text"
      },
      "source": [
        "### Extracting top-k principal components"
      ]
    },
    {
      "cell_type": "code",
      "metadata": {
        "id": "gr9utNUw9nMj",
        "colab_type": "code",
        "colab": {}
      },
      "source": [
        "def find_top_principal_components(centered_matrix, k=2):\n",
        "  cov_matrix = centered_matrix @ centered_matrix.T\n",
        "  cov_matrix /= centered_matrix[1].size\n",
        "  return find_top_eigenvectors(cov_matrix, k=k)\n",
        "\n",
        "def find_top_eigenvectors(matrix, k=2):\n",
        "  matrix = matrix.copy()\n",
        "  eigenvectors = []\n",
        "  for _ in range(k):\n",
        "    eigenvector, eigenvalue = power_iteration(matrix)\n",
        "    eigenvectors.append(eigenvector)\n",
        "    matrix -= eigenvalue * np.outer(eigenvector, eigenvector)\n",
        "  return np.array(eigenvectors)"
      ],
      "execution_count": 225,
      "outputs": []
    },
    {
      "cell_type": "code",
      "metadata": {
        "id": "qSElqjno-7ch",
        "colab_type": "code",
        "colab": {}
      },
      "source": [
        "def reduce_dimensions(data, k=2, centralize_data=True):\n",
        "  data = data.T.copy()\n",
        "  if centralize_data:\n",
        "    for i in range(data.shape[0]):\n",
        "      data[i] -= data[i].mean()\n",
        "  \n",
        "  principal_components = find_top_principal_components(data)\n",
        "  return (principal_components @ data).T"
      ],
      "execution_count": 226,
      "outputs": []
    },
    {
      "cell_type": "code",
      "metadata": {
        "id": "hMJLQikY_XOp",
        "colab_type": "code",
        "colab": {
          "base_uri": "https://localhost:8080/",
          "height": 269
        },
        "outputId": "9a312883-aa0e-4f45-a51c-e5684b68e7f8"
      },
      "source": [
        "np.random.seed(0)\n",
        "dim_reduced_data = reduce_dimensions(flower_measurements)\n",
        "visualize_flower_data(dim_reduced_data)"
      ],
      "execution_count": 227,
      "outputs": [
        {
          "output_type": "display_data",
          "data": {
            "image/png": "[encoded data removed]",
            "text/plain": [
              "<Figure size 432x288 with 1 Axes>"
            ]
          },
          "metadata": {
            "tags": [],
            "needs_background": "light"
          }
        }
      ]
    },
    {
      "cell_type": "code",
      "metadata": {
        "id": "cuUMeN2mACSV",
        "colab_type": "code",
        "colab": {
          "base_uri": "https://localhost:8080/",
          "height": 265
        },
        "outputId": "9538756b-4545-48cb-fb18-0b94f4017624"
      },
      "source": [
        "np.random.seed(3)\n",
        "dim_reduced_data = reduce_dimensions(flower_measurements, centralize_data=False)\n",
        "visualize_flower_data(dim_reduced_data)"
      ],
      "execution_count": 228,
      "outputs": [
        {
          "output_type": "display_data",
          "data": {
            "image/png": "[encoded data removed]",
            "text/plain": [
              "<Figure size 432x288 with 1 Axes>"
            ]
          },
          "metadata": {
            "tags": [],
            "needs_background": "light"
          }
        }
      ]
    },
    {
      "cell_type": "code",
      "metadata": {
        "id": "pftKSDPnA5cO",
        "colab_type": "code",
        "colab": {}
      },
      "source": [
        "variances = [sum(data[:,i].var() for i in range(data.shape[1])) \n",
        "                                    for data in [dim_reduced_data, flower_measurements]]"
      ],
      "execution_count": 229,
      "outputs": []
    },
    {
      "cell_type": "code",
      "metadata": {
        "id": "FH0aVDFCBQ0f",
        "colab_type": "code",
        "colab": {
          "base_uri": "https://localhost:8080/",
          "height": 34
        },
        "outputId": "fc357eb3-2950-4ab4-ef95-f9215e8fd874"
      },
      "source": [
        "dim_reduced_var, total_var = variances\n",
        "percent_coverage = 100*dim_reduced_var / total_var\n",
        "print(f\"Our plot covers {percent_coverage:.2f} of the total variance\")"
      ],
      "execution_count": 230,
      "outputs": [
        {
          "output_type": "stream",
          "text": [
            "Our plot covers 97.72 of the total variance\n"
          ],
          "name": "stdout"
        }
      ]
    },
    {
      "cell_type": "markdown",
      "metadata": {
        "id": "auZmeCf-CCh1",
        "colab_type": "text"
      },
      "source": [
        "# Dimension Reduction Using SVD and Scikit-Learn"
      ]
    },
    {
      "cell_type": "code",
      "metadata": {
        "id": "lyYZJ8-yCHps",
        "colab_type": "code",
        "colab": {}
      },
      "source": [
        "from sklearn.decomposition import TruncatedSVD"
      ],
      "execution_count": 231,
      "outputs": []
    },
    {
      "cell_type": "code",
      "metadata": {
        "id": "n9LZXcwnCMLw",
        "colab_type": "code",
        "colab": {
          "base_uri": "https://localhost:8080/",
          "height": 265
        },
        "outputId": "523a505c-c4a0-401e-e009-dfa5a595de90"
      },
      "source": [
        "svd_object = TruncatedSVD(n_components=2)\n",
        "svd_transformed_data = svd_object.fit_transform(flower_measurements)\n",
        "visualize_flower_data(svd_transformed_data)"
      ],
      "execution_count": 232,
      "outputs": [
        {
          "output_type": "display_data",
          "data": {
            "image/png": "[encoded data removed]",
            "text/plain": [
              "<Figure size 432x288 with 1 Axes>"
            ]
          },
          "metadata": {
            "tags": [],
            "needs_background": "light"
          }
        }
      ]
    },
    {
      "cell_type": "code",
      "metadata": {
        "id": "--vAqrMxDGpZ",
        "colab_type": "code",
        "colab": {
          "base_uri": "https://localhost:8080/",
          "height": 34
        },
        "outputId": "0fa4433e-4d7f-4805-f028-3e42ec18cbf1"
      },
      "source": [
        "percent_variance_coverages = 100*svd_object.explained_variance_ratio_\n",
        "x_axis_coverage, y_axis_coverage = percent_variance_coverages\n",
        "total_2d_coverage = x_axis_coverage + y_axis_coverage\n",
        "print(f\"Our Scikit-Learn SVD output covers {total_2d_coverage:.2f}% of the total variance\")"
      ],
      "execution_count": 234,
      "outputs": [
        {
          "output_type": "stream",
          "text": [
            "Our Scikit-Learn SVD output covers 97.72% of the total variance\n"
          ],
          "name": "stdout"
        }
      ]
    }
  ]
}