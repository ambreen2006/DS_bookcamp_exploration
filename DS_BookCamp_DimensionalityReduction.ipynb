{
  "nbformat": 4,
  "nbformat_minor": 0,
  "metadata": {
    "colab": {
      "name": "DS_BookCamp_DimensionalityReduction.ipynb",
      "provenance": [],
      "collapsed_sections": [],
      "authorship_tag": "ABX9TyO2x6Rt4KzT0EJ6ucbJEx7J",
      "include_colab_link": true
    },
    "kernelspec": {
      "name": "python3",
      "display_name": "Python 3"
    }
  },
  "cells": [
    {
      "cell_type": "markdown",
      "metadata": {
        "id": "view-in-github",
        "colab_type": "text"
      },
      "source": [
        "<a href=\"https://colab.research.google.com/github/ambreen2006/DS_bookcamp_exploration/blob/master/DS_BookCamp_DimensionalityReduction.ipynb\" target=\"_parent\"><img src=\"https://colab.research.google.com/assets/colab-badge.svg\" alt=\"Open In Colab\"/></a>"
      ]
    },
    {
      "cell_type": "code",
      "metadata": {
        "id": "JzfAqsEHQn66",
        "colab_type": "code",
        "colab": {}
      },
      "source": [
        "import numpy as np\n",
        "import matplotlib.pyplot as plt\n",
        "\n",
        "from math import sin, cos"
      ],
      "execution_count": 11,
      "outputs": []
    },
    {
      "cell_type": "code",
      "metadata": {
        "id": "gDvWpVg1Qwk-",
        "colab_type": "code",
        "colab": {}
      },
      "source": [
        "heights = np.arange(60, 78, 0.1)"
      ],
      "execution_count": 2,
      "outputs": []
    },
    {
      "cell_type": "code",
      "metadata": {
        "id": "F-BDo7ZJWrs5",
        "colab_type": "code",
        "colab": {}
      },
      "source": [
        "np.random.seed(0)\n",
        "random_fluctuations = np.random.normal(scale=10, size=heights.size)\n",
        "weights = 4*heights - 130 + random_fluctuations"
      ],
      "execution_count": 3,
      "outputs": []
    },
    {
      "cell_type": "code",
      "metadata": {
        "id": "h9n2vbkPXLGC",
        "colab_type": "code",
        "colab": {
          "base_uri": "https://localhost:8080/",
          "height": 349
        },
        "outputId": "f172936f-4824-43f4-e7fd-431694408f54"
      },
      "source": [
        "plt.hist(random_fluctuations)"
      ],
      "execution_count": 4,
      "outputs": [
        {
          "output_type": "execute_result",
          "data": {
            "text/plain": [
              "(array([ 1.,  5., 18., 29., 28., 34., 23., 20., 13.,  9.]),\n",
              " array([-25.52989816, -20.59376357, -15.65762898, -10.72149439,\n",
              "         -5.7853598 ,  -0.8492252 ,   4.08690939,   9.02304398,\n",
              "         13.95917857,  18.89531316,  23.83144775]),\n",
              " <a list of 10 Patch objects>)"
            ]
          },
          "metadata": {
            "tags": []
          },
          "execution_count": 4
        },
        {
          "output_type": "display_data",
          "data": {
            "image/png": "[encoded data removed]",
            "text/plain": [
              "<Figure size 432x288 with 1 Axes>"
            ]
          },
          "metadata": {
            "tags": [],
            "needs_background": "light"
          }
        }
      ]
    },
    {
      "cell_type": "code",
      "metadata": {
        "id": "ERzn8jzDedbF",
        "colab_type": "code",
        "colab": {
          "base_uri": "https://localhost:8080/",
          "height": 265
        },
        "outputId": "170461ca-b844-431b-a7b5-dec36697fa93"
      },
      "source": [
        "_ = plt.hist(weights)"
      ],
      "execution_count": 5,
      "outputs": [
        {
          "output_type": "display_data",
          "data": {
            "image/png": "[encoded data removed]",
            "text/plain": [
              "<Figure size 432x288 with 1 Axes>"
            ]
          },
          "metadata": {
            "tags": [],
            "needs_background": "light"
          }
        }
      ]
    },
    {
      "cell_type": "code",
      "metadata": {
        "id": "_WoqpVDpfR8x",
        "colab_type": "code",
        "colab": {
          "base_uri": "https://localhost:8080/",
          "height": 279
        },
        "outputId": "b67892c0-6ed6-46e0-be26-f77498c15f57"
      },
      "source": [
        "measurements = np.array([heights, weights])\n",
        "plt.scatter(measurements[0], measurements[1])\n",
        "plt.xlabel('Height (in)')\n",
        "plt.ylabel('Weight (lb)')\n",
        "plt.show()"
      ],
      "execution_count": 6,
      "outputs": [
        {
          "output_type": "display_data",
          "data": {
            "image/png": "[encoded data removed]",
            "text/plain": [
              "<Figure size 432x288 with 1 Axes>"
            ]
          },
          "metadata": {
            "tags": [],
            "needs_background": "light"
          }
        }
      ]
    },
    {
      "cell_type": "code",
      "metadata": {
        "id": "96BYmtGakVuQ",
        "colab_type": "code",
        "colab": {
          "base_uri": "https://localhost:8080/",
          "height": 279
        },
        "outputId": "26258910-2e4e-4730-d46e-5b035eaf0036"
      },
      "source": [
        "measurements = np.array([heights, weights])\n",
        "plt.scatter(measurements[0], measurements[1])\n",
        "plt.xlabel('Height (in)')\n",
        "plt.ylabel('Weight (lb)')\n",
        "plt.axis('equal')\n",
        "plt.show()"
      ],
      "execution_count": 7,
      "outputs": [
        {
          "output_type": "display_data",
          "data": {
            "image/png": "[encoded data removed]",
            "text/plain": [
              "<Figure size 432x288 with 1 Axes>"
            ]
          },
          "metadata": {
            "tags": [],
            "needs_background": "light"
          }
        }
      ]
    },
    {
      "cell_type": "code",
      "metadata": {
        "id": "j3Vw-geMn4LN",
        "colab_type": "code",
        "colab": {
          "base_uri": "https://localhost:8080/",
          "height": 279
        },
        "outputId": "797a2dc1-857d-4f7d-8507-7bf6d4a96b40"
      },
      "source": [
        "centered_data = np.array([heights - heights.mean(),\n",
        "                          weights - weights.mean()])\n",
        "plt.scatter(centered_data[0], centered_data[1])\n",
        "plt.axhline(0, c='black')\n",
        "plt.axvline(0, c='black')\n",
        "plt.xlabel('Centralized Height (in)')\n",
        "plt.ylabel('Centralized Weight (lbs)')\n",
        "plt.axis('equal')\n",
        "plt.show()"
      ],
      "execution_count": 8,
      "outputs": [
        {
          "output_type": "display_data",
          "data": {
            "image/png": "[encoded data removed]",
            "text/plain": [
              "<Figure size 432x288 with 1 Axes>"
            ]
          },
          "metadata": {
            "tags": [],
            "needs_background": "light"
          }
        }
      ]
    },
    {
      "cell_type": "code",
      "metadata": {
        "id": "n5p8SwpeHIzy",
        "colab_type": "code",
        "colab": {
          "base_uri": "https://localhost:8080/",
          "height": 34
        },
        "outputId": "7878ede0-af9d-46ee-8a38-4f0aa5a497b3"
      },
      "source": [
        "centered_data.shape"
      ],
      "execution_count": 9,
      "outputs": [
        {
          "output_type": "execute_result",
          "data": {
            "text/plain": [
              "(2, 180)"
            ]
          },
          "metadata": {
            "tags": []
          },
          "execution_count": 9
        }
      ]
    },
    {
      "cell_type": "code",
      "metadata": {
        "id": "MQO1xsmwHLvw",
        "colab_type": "code",
        "colab": {}
      },
      "source": [
        "angle = np.radians(-90)\n",
        "angle_anti = np.radians(90)\n",
        "\n",
        "rotation_matrix = np.array([[cos(angle), -sin(angle)],\n",
        "                            [sin(angle), cos(angle)]])\n",
        "\n",
        "rotation_matrix_anti = np.array([[cos(angle_anti), -sin(angle_anti)],\n",
        "                                 [sin(angle_anti), cos(angle_anti)]])"
      ],
      "execution_count": 48,
      "outputs": []
    },
    {
      "cell_type": "code",
      "metadata": {
        "id": "TXTHVwv4H0pg",
        "colab_type": "code",
        "colab": {
          "base_uri": "https://localhost:8080/",
          "height": 50
        },
        "outputId": "bf2500f7-927b-4453-be7d-979fab1e7605"
      },
      "source": [
        "rotation_matrix"
      ],
      "execution_count": 45,
      "outputs": [
        {
          "output_type": "execute_result",
          "data": {
            "text/plain": [
              "array([[ 6.123234e-17, -1.000000e+00],\n",
              "       [ 1.000000e+00,  6.123234e-17]])"
            ]
          },
          "metadata": {
            "tags": []
          },
          "execution_count": 45
        }
      ]
    },
    {
      "cell_type": "code",
      "metadata": {
        "id": "N7IuO2TAH3cr",
        "colab_type": "code",
        "colab": {}
      },
      "source": [
        "rotated_data = rotation_matrix @ centered_data\n",
        "rotated_data_anti = rotation_matrix_anti @ centered_data"
      ],
      "execution_count": 49,
      "outputs": []
    },
    {
      "cell_type": "markdown",
      "metadata": {
        "id": "wxdh8vuWV0pb",
        "colab_type": "text"
      },
      "source": [
        "Good resources to review how the rotation matrix works:\n",
        "\n",
        "https://www.khanacademy.org/math/linear-algebra/matrix-transformations\n",
        "\n",
        "https://livevideo.manning.com/module/98_1_3/3blue1brown-essence-of-linear-algebra/essence-of-linear-algebra/linear-transformations-and-matrices?\n",
        "\n",
        "https://setosa.io/ev/sine-and-cosine/#:~:text=Sine%20and%20cosine%20%E2%80%94%20a.k.a.%2C%20sin,adjacent%20side%20to%20the%20hypotenuse%20."
      ]
    },
    {
      "cell_type": "code",
      "metadata": {
        "id": "xYY42hNTIAPx",
        "colab_type": "code",
        "colab": {
          "base_uri": "https://localhost:8080/",
          "height": 265
        },
        "outputId": "d4c5bd5c-45c3-4b9c-e0ce-ef36a654e1dc"
      },
      "source": [
        "plt.scatter(centered_data[0], centered_data[1], label='Original Data')\n",
        "plt.scatter(rotated_data[0], rotated_data[1], label='Rotated Data', c = 'y')\n",
        "plt.scatter(rotated_data_anti[0], rotated_data_anti[1], label='Rotated Data', c = 'pink')\n",
        "\n",
        "plt.axhline(0, c='b')\n",
        "plt.axvline(0, c='b')\n",
        "plt.legend()\n",
        "plt.axis('equal')\n",
        "plt.show()"
      ],
      "execution_count": 51,
      "outputs": [
        {
          "output_type": "display_data",
          "data": {
            "image/png": "[encoded data removed]",
            "text/plain": [
              "<Figure size 432x288 with 1 Axes>"
            ]
          },
          "metadata": {
            "tags": [],
            "needs_background": "light"
          }
        }
      ]
    },
    {
      "cell_type": "code",
      "metadata": {
        "id": "g7-P7PN9dXvw",
        "colab_type": "code",
        "colab": {
          "base_uri": "https://localhost:8080/",
          "height": 50
        },
        "outputId": "0c032153-da59-4df6-a46b-a2495ec567cc"
      },
      "source": [
        "data_labels = ['unrotated', 'rotated']\n",
        "data_list = [centered_data, rotated_data]\n",
        "for data_label, data in zip(data_labels, data_list):\n",
        "    y_values = data[1]\n",
        "    penalty = y_values @ y_values/y_values.size\n",
        "    print(f'The penalty score for the {data_label} data is {penalty:.2f}')"
      ],
      "execution_count": 17,
      "outputs": [
        {
          "output_type": "stream",
          "text": [
            "The penalty score for the unrotated data is 519.82\n",
            "The penalty score for the rotated data is 27.00\n"
          ],
          "name": "stdout"
        }
      ]
    },
    {
      "cell_type": "code",
      "metadata": {
        "id": "iT-n45T6eukW",
        "colab_type": "code",
        "colab": {
          "base_uri": "https://localhost:8080/",
          "height": 50
        },
        "outputId": "2f97b6df-4e94-45c3-801a-4a5525d099da"
      },
      "source": [
        "for data_label, data in zip(data_labels, data_list):\n",
        "  y_var = data[1].var()\n",
        "  assert  y_var == data[1]@data[1]/data[1].size\n",
        "  print(f'The y-axis variance for the {data_label} data is {y_var:.2f}')"
      ],
      "execution_count": 34,
      "outputs": [
        {
          "output_type": "stream",
          "text": [
            "The y-axis variance for the unrotated data is 519.82\n",
            "The y-axis variance for the rotated data is 27.00\n"
          ],
          "name": "stdout"
        }
      ]
    },
    {
      "cell_type": "markdown",
      "metadata": {
        "id": "75Qs0PeOiS26",
        "colab_type": "text"
      },
      "source": [
        "X-axis variance"
      ]
    },
    {
      "cell_type": "code",
      "metadata": {
        "id": "L8zzQYdGiPt7",
        "colab_type": "code",
        "colab": {
          "base_uri": "https://localhost:8080/",
          "height": 50
        },
        "outputId": "6588a798-7e20-4e87-b71b-ae3ed4ecc343"
      },
      "source": [
        "for data_label, data in zip(data_labels, data_list):\n",
        "  x_var = data[0].var()\n",
        "  print(f'The x-axis variance for the {data_label} data is {x_var:.2f}')"
      ],
      "execution_count": 35,
      "outputs": [
        {
          "output_type": "stream",
          "text": [
            "The x-axis variance for the unrotated data is 27.00\n",
            "The x-axis variance for the rotated data is 519.82\n"
          ],
          "name": "stdout"
        }
      ]
    },
    {
      "cell_type": "code",
      "metadata": {
        "id": "xHqVhzxkileB",
        "colab_type": "code",
        "colab": {}
      },
      "source": [
        "total_variance = centered_data[0].var() + centered_data[1].var()\n",
        "assert total_variance == rotated_data[0].var() + rotated_data[1].var()"
      ],
      "execution_count": 36,
      "outputs": []
    },
    {
      "cell_type": "markdown",
      "metadata": {
        "id": "-k3bq4_ni1co",
        "colab_type": "text"
      },
      "source": [
        "This entails that:\n",
        "  * x_values.var() / total_variance == 1 - y_values.var()/total_variance\n",
        "  * Rotating the data towards the x-axis will lead to an increase in the x-axis variance, and equivalent decrease in y-axis variance.\n",
        "\n"
      ]
    },
    {
      "cell_type": "code",
      "metadata": {
        "id": "ZLmjQZU0js7X",
        "colab_type": "code",
        "colab": {
          "base_uri": "https://localhost:8080/",
          "height": 118
        },
        "outputId": "5d19f829-18ad-4c40-9bce-a61be67e9f56"
      },
      "source": [
        "for data_label, data in zip(data_labels, data_list):\n",
        "  p_x_var = 100 * data[0].var()/total_variance\n",
        "  p_y_var = 100 * data[1].var()/total_variance\n",
        "  print(f'In the {data_label} data, {p_x_var:.2f}% of the total variance is distributed across the x-axis')\n",
        "  print(f'The remaining {p_y_var:.2f}% of the total variance is distributed across the y-axis\\n')"
      ],
      "execution_count": 40,
      "outputs": [
        {
          "output_type": "stream",
          "text": [
            "In the unrotated data, 4.94% of the total variance is distributed across the x-axis\n",
            "The remaining 95.06% of the total variance is distributed across the y-axis\n",
            "\n",
            "In the rotated data, 95.06% of the total variance is distributed across the x-axis\n",
            "The remaining 4.94% of the total variance is distributed across the y-axis\n",
            "\n"
          ],
          "name": "stdout"
        }
      ]
    },
    {
      "cell_type": "markdown",
      "metadata": {
        "id": "cblAsoxglCC8",
        "colab_type": "text"
      },
      "source": [
        "Maximizing horizontal dispersion"
      ]
    },
    {
      "cell_type": "code",
      "metadata": {
        "id": "ZS9Z0KGylErT",
        "colab_type": "code",
        "colab": {}
      },
      "source": [
        "def rotate(angle, data=centered_data):\n",
        "  angle = np.radians(-angle)\n",
        "  rotation_matrix = np.array([[cos(angle), -sin(angle)],\n",
        "                              [sin(angle), cos(angle)]])\n",
        "  return rotation_matrix @ data"
      ],
      "execution_count": 41,
      "outputs": []
    },
    {
      "cell_type": "code",
      "metadata": {
        "id": "jHUjQGhGn2xX",
        "colab_type": "code",
        "colab": {
          "base_uri": "https://localhost:8080/",
          "height": 34
        },
        "outputId": "e347cf28-1cc3-4fd1-d737-4498c6f08965"
      },
      "source": [
        "rotate(angle).shape"
      ],
      "execution_count": 53,
      "outputs": [
        {
          "output_type": "execute_result",
          "data": {
            "text/plain": [
              "(2, 180)"
            ]
          },
          "metadata": {
            "tags": []
          },
          "execution_count": 53
        }
      ]
    },
    {
      "cell_type": "code",
      "metadata": {
        "id": "ekMStlDSlXpH",
        "colab_type": "code",
        "colab": {
          "base_uri": "https://localhost:8080/",
          "height": 296
        },
        "outputId": "1ec67863-9412-442b-ed4a-7cbf8d7a6921"
      },
      "source": [
        "angles = np.arange(1, 180, 0.1)\n",
        "x_variances = [(rotate(angle)[0].var()) for angle in angles]\n",
        "p_x_var = 100*np.array(x_variances)/total_variance\n",
        "optimal_index = np.argmax(p_x_var)\n",
        "optimal_angle = angles[optimal_index]\n",
        "plt.plot(angles, p_x_var)\n",
        "plt.axvline(optimal_angle, c='k')\n",
        "plt.xlabel('Angle (degrees)')\n",
        "plt.ylabel('% x-axis coverage')\n",
        "plt.show()\n",
        "\n",
        "max_coverage = p_x_var[optimal_index]\n",
        "max_x_var = x_variances[optimal_index]\n",
        "\n",
        "print('The horizontal variance is maximized to approximately '\n",
        "       f'{int(max_x_var)} after a {optimal_angle:.2f} deg rotation.')\n",
        "print(f'The rotation distributes ')"
      ],
      "execution_count": 54,
      "outputs": [
        {
          "output_type": "execute_result",
          "data": {
            "text/plain": [
              "Text(0.5, 0, 'Angle (degrees)')"
            ]
          },
          "metadata": {
            "tags": []
          },
          "execution_count": 54
        },
        {
          "output_type": "display_data",
          "data": {
            "image/png": "[encoded data removed]",
            "text/plain": [
              "<Figure size 432x288 with 1 Axes>"
            ]
          },
          "metadata": {
            "tags": [],
            "needs_background": "light"
          }
        }
      ]
    }
  ]
}